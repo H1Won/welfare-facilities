{
 "cells": [
  {
   "cell_type": "markdown",
   "id": "9e544f66",
   "metadata": {},
   "source": [
    "# 준비"
   ]
  },
  {
   "cell_type": "code",
   "execution_count": 78,
   "id": "e528b7e6",
   "metadata": {},
   "outputs": [
    {
     "data": {
      "text/plain": [
       "<AxesSubplot:title={'center':'한글폰트 설정'}>"
      ]
     },
     "execution_count": 78,
     "metadata": {},
     "output_type": "execute_result"
    },
    {
     "data": {
      "image/png": "[encoded data removed]",
      "text/plain": [
       "<Figure size 432x288 with 1 Axes>"
      ]
     },
     "metadata": {
      "needs_background": "light"
     },
     "output_type": "display_data"
    }
   ],
   "source": [
    "import pandas as pd\n",
    "import seaborn as sns\n",
    "import matplotlib.pyplot as plt\n",
    "import numpy as np\n",
    "\n",
    "plt.rc(\"font\", family='Malgun Gothic')\n",
    "plt.rc('axes', unicode_minus=False)\n",
    "\n",
    "pd.Series([-4,1,0,3,4,5]).plot(title='한글폰트 설정')"
   ]
  },
  {
   "cell_type": "code",
   "execution_count": 79,
   "id": "b23d6d65",
   "metadata": {},
   "outputs": [],
   "source": [
    "df= pd.read_csv('C:/Users/zhddl/data/서울특별시 사회복지시설 목록.csv', encoding='CP949')"
   ]
  },
  {
   "cell_type": "markdown",
   "id": "aecc428e",
   "metadata": {},
   "source": [
    "# 데이터 분석"
   ]
  },
  {
   "cell_type": "code",
   "execution_count": 80,
   "id": "c0b57cf8",
   "metadata": {},
   "outputs": [
    {
     "data": {
      "text/html": [
       "<div>\n",
       "<style scoped>\n",
       "    .dataframe tbody tr th:only-of-type {\n",
       "        vertical-align: middle;\n",
       "    }\n",
       "\n",
       "    .dataframe tbody tr th {\n",
       "        vertical-align: top;\n",
       "    }\n",
       "\n",
       "    .dataframe thead th {\n",
       "        text-align: right;\n",
       "    }\n",
       "</style>\n",
       "<table border=\"1\" class=\"dataframe\">\n",
       "  <thead>\n",
       "    <tr style=\"text-align: right;\">\n",
       "      <th></th>\n",
       "      <th>시설명</th>\n",
       "      <th>시설코드</th>\n",
       "      <th>시설종류명(시설유형)</th>\n",
       "      <th>시설종류상세명(시설종류)</th>\n",
       "      <th>자치구(시)구분</th>\n",
       "      <th>시설장명</th>\n",
       "      <th>시군구코드</th>\n",
       "      <th>시군구명</th>\n",
       "      <th>시설주소</th>\n",
       "    </tr>\n",
       "  </thead>\n",
       "  <tbody>\n",
       "    <tr>\n",
       "      <th>0</th>\n",
       "      <td>서울꽃동네신내노인요양원</td>\n",
       "      <td>A0001</td>\n",
       "      <td>(노인) 노인요양시설</td>\n",
       "      <td>노인의료복지시설</td>\n",
       "      <td>자치구</td>\n",
       "      <td>최은숙</td>\n",
       "      <td>1126000000</td>\n",
       "      <td>중랑구</td>\n",
       "      <td>서울특별시 중랑구 신내로 194</td>\n",
       "    </tr>\n",
       "    <tr>\n",
       "      <th>1</th>\n",
       "      <td>청운양로원</td>\n",
       "      <td>A0002</td>\n",
       "      <td>(노인) 양로시설</td>\n",
       "      <td>노인주거복지시설</td>\n",
       "      <td>자치구</td>\n",
       "      <td>이종명</td>\n",
       "      <td>1111000000</td>\n",
       "      <td>종로구</td>\n",
       "      <td>서울특별시 종로구 비봉길 76 (구기동)</td>\n",
       "    </tr>\n",
       "    <tr>\n",
       "      <th>2</th>\n",
       "      <td>청운노인요양원</td>\n",
       "      <td>A0003</td>\n",
       "      <td>(노인) 노인요양시설</td>\n",
       "      <td>노인의료복지시설</td>\n",
       "      <td>자치구</td>\n",
       "      <td>이종후</td>\n",
       "      <td>1111000000</td>\n",
       "      <td>종로구</td>\n",
       "      <td>서울특별시 종로구 비봉길 76 (구기동)</td>\n",
       "    </tr>\n",
       "    <tr>\n",
       "      <th>3</th>\n",
       "      <td>홍파양로원</td>\n",
       "      <td>A0004</td>\n",
       "      <td>(노인) 양로시설</td>\n",
       "      <td>노인주거복지시설</td>\n",
       "      <td>자치구</td>\n",
       "      <td>김우리</td>\n",
       "      <td>1135000000</td>\n",
       "      <td>노원구</td>\n",
       "      <td>서울특별시 노원구 동일로248길 30 (상계동)</td>\n",
       "    </tr>\n",
       "    <tr>\n",
       "      <th>4</th>\n",
       "      <td>천사노인요양원</td>\n",
       "      <td>A0007</td>\n",
       "      <td>(노인) 노인요양시설</td>\n",
       "      <td>노인의료복지시설</td>\n",
       "      <td>자치구</td>\n",
       "      <td>김샛별</td>\n",
       "      <td>1150000000</td>\n",
       "      <td>강서구</td>\n",
       "      <td>서울특별시 강서구 강서로45다길 30-22</td>\n",
       "    </tr>\n",
       "  </tbody>\n",
       "</table>\n",
       "</div>"
      ],
      "text/plain": [
       "            시설명   시설코드  시설종류명(시설유형) 시설종류상세명(시설종류) 자치구(시)구분 시설장명       시군구코드  \\\n",
       "0  서울꽃동네신내노인요양원  A0001  (노인) 노인요양시설      노인의료복지시설      자치구  최은숙  1126000000   \n",
       "1         청운양로원  A0002    (노인) 양로시설      노인주거복지시설      자치구  이종명  1111000000   \n",
       "2       청운노인요양원  A0003  (노인) 노인요양시설      노인의료복지시설      자치구  이종후  1111000000   \n",
       "3         홍파양로원  A0004    (노인) 양로시설      노인주거복지시설      자치구  김우리  1135000000   \n",
       "4       천사노인요양원  A0007  (노인) 노인요양시설      노인의료복지시설      자치구  김샛별  1150000000   \n",
       "\n",
       "  시군구명                        시설주소  \n",
       "0  중랑구          서울특별시 중랑구 신내로 194   \n",
       "1  종로구      서울특별시 종로구 비봉길 76 (구기동)  \n",
       "2  종로구      서울특별시 종로구 비봉길 76 (구기동)  \n",
       "3  노원구  서울특별시 노원구 동일로248길 30 (상계동)  \n",
       "4  강서구     서울특별시 강서구 강서로45다길 30-22  "
      ]
     },
     "execution_count": 80,
     "metadata": {},
     "output_type": "execute_result"
    }
   ],
   "source": [
    "df.head()"
   ]
  },
  {
   "cell_type": "code",
   "execution_count": 81,
   "id": "388d43d1",
   "metadata": {},
   "outputs": [
    {
     "data": {
      "text/html": [
       "<div>\n",
       "<style scoped>\n",
       "    .dataframe tbody tr th:only-of-type {\n",
       "        vertical-align: middle;\n",
       "    }\n",
       "\n",
       "    .dataframe tbody tr th {\n",
       "        vertical-align: top;\n",
       "    }\n",
       "\n",
       "    .dataframe thead th {\n",
       "        text-align: right;\n",
       "    }\n",
       "</style>\n",
       "<table border=\"1\" class=\"dataframe\">\n",
       "  <thead>\n",
       "    <tr style=\"text-align: right;\">\n",
       "      <th></th>\n",
       "      <th>시설명</th>\n",
       "      <th>시설코드</th>\n",
       "      <th>시설종류명(시설유형)</th>\n",
       "      <th>시설종류상세명(시설종류)</th>\n",
       "      <th>자치구(시)구분</th>\n",
       "      <th>시설장명</th>\n",
       "      <th>시군구코드</th>\n",
       "      <th>시군구명</th>\n",
       "      <th>시설주소</th>\n",
       "    </tr>\n",
       "  </thead>\n",
       "  <tbody>\n",
       "    <tr>\n",
       "      <th>3096</th>\n",
       "      <td>용산구장애인가족지원센터</td>\n",
       "      <td>Z6291</td>\n",
       "      <td>(장애인) (기타)장애인복지시설</td>\n",
       "      <td>장애인기타</td>\n",
       "      <td>자치구</td>\n",
       "      <td>송인수</td>\n",
       "      <td>1117000000</td>\n",
       "      <td>용산구</td>\n",
       "      <td>서울특별시 용산구 서빙고로 245 2층 (서빙고동 용산구장애인커뮤니티센터)</td>\n",
       "    </tr>\n",
       "    <tr>\n",
       "      <th>3097</th>\n",
       "      <td>강감찬관악종합사회복지관</td>\n",
       "      <td>Z6294</td>\n",
       "      <td>(일반) 사회복지관</td>\n",
       "      <td>일반사회복지시설</td>\n",
       "      <td>자치구</td>\n",
       "      <td>한미경</td>\n",
       "      <td>1162000000</td>\n",
       "      <td>관악구</td>\n",
       "      <td>서울특별시 관악구 양녕로74 (봉천동)</td>\n",
       "    </tr>\n",
       "    <tr>\n",
       "      <th>3098</th>\n",
       "      <td>종로발달장애인평생교육센터</td>\n",
       "      <td>Z6295</td>\n",
       "      <td>(장애인) (기타)장애인복지시설</td>\n",
       "      <td>장애인기타</td>\n",
       "      <td>자치구</td>\n",
       "      <td>신건철</td>\n",
       "      <td>1111000000</td>\n",
       "      <td>종로구</td>\n",
       "      <td>서울특별시 종로구 종로17길 8 (종로2가)</td>\n",
       "    </tr>\n",
       "    <tr>\n",
       "      <th>3099</th>\n",
       "      <td>영등포구 발달장애인평생교육센터</td>\n",
       "      <td>Z6300</td>\n",
       "      <td>(장애인) (기타)장애인복지시설</td>\n",
       "      <td>장애인기타</td>\n",
       "      <td>자치구</td>\n",
       "      <td>서성진</td>\n",
       "      <td>1156000000</td>\n",
       "      <td>영등포구</td>\n",
       "      <td>서울특별시 영등포구 영등포로 146 (당산동1가)</td>\n",
       "    </tr>\n",
       "    <tr>\n",
       "      <th>3100</th>\n",
       "      <td>미미위역삼 발달장애인평생교육센터</td>\n",
       "      <td>Z6325</td>\n",
       "      <td>(장애인) (기타)장애인복지시설</td>\n",
       "      <td>장애인기타</td>\n",
       "      <td>자치구</td>\n",
       "      <td>김미현</td>\n",
       "      <td>1168000000</td>\n",
       "      <td>강남구</td>\n",
       "      <td>서울특별시 강남구 논현로86길 21 2층 (역삼동)</td>\n",
       "    </tr>\n",
       "  </tbody>\n",
       "</table>\n",
       "</div>"
      ],
      "text/plain": [
       "                    시설명   시설코드        시설종류명(시설유형) 시설종류상세명(시설종류) 자치구(시)구분 시설장명  \\\n",
       "3096       용산구장애인가족지원센터  Z6291  (장애인) (기타)장애인복지시설         장애인기타      자치구  송인수   \n",
       "3097       강감찬관악종합사회복지관  Z6294         (일반) 사회복지관      일반사회복지시설      자치구  한미경   \n",
       "3098      종로발달장애인평생교육센터  Z6295  (장애인) (기타)장애인복지시설         장애인기타      자치구  신건철   \n",
       "3099   영등포구 발달장애인평생교육센터  Z6300  (장애인) (기타)장애인복지시설         장애인기타      자치구  서성진   \n",
       "3100  미미위역삼 발달장애인평생교육센터  Z6325  (장애인) (기타)장애인복지시설         장애인기타      자치구  김미현   \n",
       "\n",
       "           시군구코드  시군구명                                       시설주소  \n",
       "3096  1117000000   용산구  서울특별시 용산구 서빙고로 245 2층 (서빙고동 용산구장애인커뮤니티센터)  \n",
       "3097  1162000000   관악구                      서울특별시 관악구 양녕로74 (봉천동)  \n",
       "3098  1111000000   종로구                   서울특별시 종로구 종로17길 8 (종로2가)  \n",
       "3099  1156000000  영등포구                서울특별시 영등포구 영등포로 146 (당산동1가)  \n",
       "3100  1168000000   강남구               서울특별시 강남구 논현로86길 21 2층 (역삼동)  "
      ]
     },
     "execution_count": 81,
     "metadata": {},
     "output_type": "execute_result"
    }
   ],
   "source": [
    "df.tail()"
   ]
  },
  {
   "cell_type": "code",
   "execution_count": 82,
   "id": "fcb91136",
   "metadata": {},
   "outputs": [
    {
     "name": "stdout",
     "output_type": "stream",
     "text": [
      "<class 'pandas.core.frame.DataFrame'>\n",
      "RangeIndex: 3101 entries, 0 to 3100\n",
      "Data columns (total 9 columns):\n",
      " #   Column         Non-Null Count  Dtype \n",
      "---  ------         --------------  ----- \n",
      " 0   시설명            3101 non-null   object\n",
      " 1   시설코드           3101 non-null   object\n",
      " 2   시설종류명(시설유형)    3101 non-null   object\n",
      " 3   시설종류상세명(시설종류)  3101 non-null   object\n",
      " 4   자치구(시)구분       3101 non-null   object\n",
      " 5   시설장명           3096 non-null   object\n",
      " 6   시군구코드          3101 non-null   int64 \n",
      " 7   시군구명           3101 non-null   object\n",
      " 8   시설주소           3095 non-null   object\n",
      "dtypes: int64(1), object(8)\n",
      "memory usage: 218.2+ KB\n"
     ]
    }
   ],
   "source": [
    "df.info()"
   ]
  },
  {
   "cell_type": "code",
   "execution_count": 83,
   "id": "96a8bc17",
   "metadata": {},
   "outputs": [
    {
     "data": {
      "text/plain": [
       "시설명              object\n",
       "시설코드             object\n",
       "시설종류명(시설유형)      object\n",
       "시설종류상세명(시설종류)    object\n",
       "자치구(시)구분         object\n",
       "시설장명             object\n",
       "시군구코드             int64\n",
       "시군구명             object\n",
       "시설주소             object\n",
       "dtype: object"
      ]
     },
     "execution_count": 83,
     "metadata": {},
     "output_type": "execute_result"
    }
   ],
   "source": [
    "df.dtypes"
   ]
  },
  {
   "cell_type": "markdown",
   "id": "10b751ea",
   "metadata": {},
   "source": [
    "# 정리"
   ]
  },
  {
   "cell_type": "markdown",
   "id": "79a4230a",
   "metadata": {},
   "source": [
    "## 컬럼 삭제"
   ]
  },
  {
   "cell_type": "code",
   "execution_count": 84,
   "id": "93586c7a",
   "metadata": {},
   "outputs": [
    {
     "data": {
      "text/html": [
       "<div>\n",
       "<style scoped>\n",
       "    .dataframe tbody tr th:only-of-type {\n",
       "        vertical-align: middle;\n",
       "    }\n",
       "\n",
       "    .dataframe tbody tr th {\n",
       "        vertical-align: top;\n",
       "    }\n",
       "\n",
       "    .dataframe thead th {\n",
       "        text-align: right;\n",
       "    }\n",
       "</style>\n",
       "<table border=\"1\" class=\"dataframe\">\n",
       "  <thead>\n",
       "    <tr style=\"text-align: right;\">\n",
       "      <th></th>\n",
       "      <th>시설명</th>\n",
       "      <th>시설종류명(시설유형)</th>\n",
       "      <th>시설종류상세명(시설종류)</th>\n",
       "      <th>자치구(시)구분</th>\n",
       "      <th>시설장명</th>\n",
       "      <th>시군구명</th>\n",
       "      <th>시설주소</th>\n",
       "    </tr>\n",
       "  </thead>\n",
       "  <tbody>\n",
       "    <tr>\n",
       "      <th>0</th>\n",
       "      <td>서울꽃동네신내노인요양원</td>\n",
       "      <td>(노인) 노인요양시설</td>\n",
       "      <td>노인의료복지시설</td>\n",
       "      <td>자치구</td>\n",
       "      <td>최은숙</td>\n",
       "      <td>중랑구</td>\n",
       "      <td>서울특별시 중랑구 신내로 194</td>\n",
       "    </tr>\n",
       "    <tr>\n",
       "      <th>1</th>\n",
       "      <td>청운양로원</td>\n",
       "      <td>(노인) 양로시설</td>\n",
       "      <td>노인주거복지시설</td>\n",
       "      <td>자치구</td>\n",
       "      <td>이종명</td>\n",
       "      <td>종로구</td>\n",
       "      <td>서울특별시 종로구 비봉길 76 (구기동)</td>\n",
       "    </tr>\n",
       "    <tr>\n",
       "      <th>2</th>\n",
       "      <td>청운노인요양원</td>\n",
       "      <td>(노인) 노인요양시설</td>\n",
       "      <td>노인의료복지시설</td>\n",
       "      <td>자치구</td>\n",
       "      <td>이종후</td>\n",
       "      <td>종로구</td>\n",
       "      <td>서울특별시 종로구 비봉길 76 (구기동)</td>\n",
       "    </tr>\n",
       "    <tr>\n",
       "      <th>3</th>\n",
       "      <td>홍파양로원</td>\n",
       "      <td>(노인) 양로시설</td>\n",
       "      <td>노인주거복지시설</td>\n",
       "      <td>자치구</td>\n",
       "      <td>김우리</td>\n",
       "      <td>노원구</td>\n",
       "      <td>서울특별시 노원구 동일로248길 30 (상계동)</td>\n",
       "    </tr>\n",
       "    <tr>\n",
       "      <th>4</th>\n",
       "      <td>천사노인요양원</td>\n",
       "      <td>(노인) 노인요양시설</td>\n",
       "      <td>노인의료복지시설</td>\n",
       "      <td>자치구</td>\n",
       "      <td>김샛별</td>\n",
       "      <td>강서구</td>\n",
       "      <td>서울특별시 강서구 강서로45다길 30-22</td>\n",
       "    </tr>\n",
       "  </tbody>\n",
       "</table>\n",
       "</div>"
      ],
      "text/plain": [
       "            시설명  시설종류명(시설유형) 시설종류상세명(시설종류) 자치구(시)구분 시설장명 시군구명  \\\n",
       "0  서울꽃동네신내노인요양원  (노인) 노인요양시설      노인의료복지시설      자치구  최은숙  중랑구   \n",
       "1         청운양로원    (노인) 양로시설      노인주거복지시설      자치구  이종명  종로구   \n",
       "2       청운노인요양원  (노인) 노인요양시설      노인의료복지시설      자치구  이종후  종로구   \n",
       "3         홍파양로원    (노인) 양로시설      노인주거복지시설      자치구  김우리  노원구   \n",
       "4       천사노인요양원  (노인) 노인요양시설      노인의료복지시설      자치구  김샛별  강서구   \n",
       "\n",
       "                         시설주소  \n",
       "0          서울특별시 중랑구 신내로 194   \n",
       "1      서울특별시 종로구 비봉길 76 (구기동)  \n",
       "2      서울특별시 종로구 비봉길 76 (구기동)  \n",
       "3  서울특별시 노원구 동일로248길 30 (상계동)  \n",
       "4     서울특별시 강서구 강서로45다길 30-22  "
      ]
     },
     "execution_count": 84,
     "metadata": {},
     "output_type": "execute_result"
    }
   ],
   "source": [
    "df= df.drop(['시설코드','시군구코드'], axis=1)\n",
    "df.head()"
   ]
  },
  {
   "cell_type": "markdown",
   "id": "89a25f65",
   "metadata": {},
   "source": [
    "## 시군구명 정리"
   ]
  },
  {
   "cell_type": "code",
   "execution_count": 85,
   "id": "04f0efcc",
   "metadata": {},
   "outputs": [
    {
     "data": {
      "text/plain": [
       "노원구      192\n",
       "강서구      189\n",
       "송파구      178\n",
       "은평구      168\n",
       "중랑구      161\n",
       "도봉구      151\n",
       "관악구      150\n",
       "강동구      149\n",
       "양천구      140\n",
       "강북구      138\n",
       "구로구      135\n",
       "성북구      129\n",
       "강남구      126\n",
       "금천구      120\n",
       "영등포구     119\n",
       "동작구      113\n",
       "서대문구     109\n",
       "동대문구     104\n",
       "광진구       95\n",
       "마포구       94\n",
       "서초구       85\n",
       "성동구       80\n",
       "종로구       66\n",
       "용산구       54\n",
       "중구        45\n",
       "서울특별시     11\n",
       "Name: 시군구명, dtype: int64"
      ]
     },
     "execution_count": 85,
     "metadata": {},
     "output_type": "execute_result"
    }
   ],
   "source": [
    "df['시군구명'].value_counts()"
   ]
  },
  {
   "cell_type": "code",
   "execution_count": 86,
   "id": "d77d67a2",
   "metadata": {},
   "outputs": [
    {
     "data": {
      "text/html": [
       "<div>\n",
       "<style scoped>\n",
       "    .dataframe tbody tr th:only-of-type {\n",
       "        vertical-align: middle;\n",
       "    }\n",
       "\n",
       "    .dataframe tbody tr th {\n",
       "        vertical-align: top;\n",
       "    }\n",
       "\n",
       "    .dataframe thead th {\n",
       "        text-align: right;\n",
       "    }\n",
       "</style>\n",
       "<table border=\"1\" class=\"dataframe\">\n",
       "  <thead>\n",
       "    <tr style=\"text-align: right;\">\n",
       "      <th></th>\n",
       "      <th>시설명</th>\n",
       "      <th>시설종류명(시설유형)</th>\n",
       "      <th>시설종류상세명(시설종류)</th>\n",
       "      <th>자치구(시)구분</th>\n",
       "      <th>시설장명</th>\n",
       "      <th>시군구명</th>\n",
       "      <th>시설주소</th>\n",
       "    </tr>\n",
       "  </thead>\n",
       "  <tbody>\n",
       "    <tr>\n",
       "      <th>495</th>\n",
       "      <td>한국아동복지시설연합회</td>\n",
       "      <td>(아동) 아동양육시설</td>\n",
       "      <td>아동복지시설</td>\n",
       "      <td>자치구</td>\n",
       "      <td>성준경</td>\n",
       "      <td>서울특별시</td>\n",
       "      <td>서울특별시 용산구 갈월동 용산빌딩</td>\n",
       "    </tr>\n",
       "    <tr>\n",
       "      <th>1508</th>\n",
       "      <td>서울특별시립장애인영농직업재활시설</td>\n",
       "      <td>(장애인) 장애인보호작업장</td>\n",
       "      <td>장애인직업재활시설</td>\n",
       "      <td>자치구</td>\n",
       "      <td>장경언</td>\n",
       "      <td>서울특별시</td>\n",
       "      <td>경기도 남양주시 진접읍 양진로725</td>\n",
       "    </tr>\n",
       "    <tr>\n",
       "      <th>1581</th>\n",
       "      <td>서울시립영보자애원</td>\n",
       "      <td>(노숙인등) 노숙인요양시설</td>\n",
       "      <td>노숙인등생활시설</td>\n",
       "      <td>자치구</td>\n",
       "      <td>남숙자</td>\n",
       "      <td>서울특별시</td>\n",
       "      <td>경기도 용인시 처인구 이원로 483-0 .이동면 서울특별시립영보자애원</td>\n",
       "    </tr>\n",
       "    <tr>\n",
       "      <th>1663</th>\n",
       "      <td>서울시립영보정신요양원</td>\n",
       "      <td>(정신보건) 정신요양시설</td>\n",
       "      <td>정신요양시설</td>\n",
       "      <td>자치구</td>\n",
       "      <td>정미현</td>\n",
       "      <td>서울특별시</td>\n",
       "      <td>경기 용인시 처인구 이동면 이원로483</td>\n",
       "    </tr>\n",
       "    <tr>\n",
       "      <th>1688</th>\n",
       "      <td>애림원</td>\n",
       "      <td>(노인) 양로시설</td>\n",
       "      <td>노인주거복지시설</td>\n",
       "      <td>자치구</td>\n",
       "      <td>이상순</td>\n",
       "      <td>서울특별시</td>\n",
       "      <td>경기도 시흥시 동서로 895-6 (물왕동)</td>\n",
       "    </tr>\n",
       "    <tr>\n",
       "      <th>1734</th>\n",
       "      <td>행복이가득한집2호</td>\n",
       "      <td>(장애인) 장애인공동생활가정</td>\n",
       "      <td>장애인거주시설</td>\n",
       "      <td>자치구</td>\n",
       "      <td>김세룡</td>\n",
       "      <td>서울특별시</td>\n",
       "      <td>서울특별시 강서구 월정로18길 20401 (화곡동)(화곡동)</td>\n",
       "    </tr>\n",
       "    <tr>\n",
       "      <th>1860</th>\n",
       "      <td>(사)굿하트데이케어센터</td>\n",
       "      <td>(노인) 재가노인복지시설</td>\n",
       "      <td>재가노인복지시설</td>\n",
       "      <td>자치구</td>\n",
       "      <td>길준영</td>\n",
       "      <td>서울특별시</td>\n",
       "      <td>서울특별시 동작구 상도로 121영진빌딩 4층(상도동) (상도동)</td>\n",
       "    </tr>\n",
       "    <tr>\n",
       "      <th>1966</th>\n",
       "      <td>서울시립 영보노인요양원</td>\n",
       "      <td>(노인) 노인요양시설</td>\n",
       "      <td>노인의료복지시설</td>\n",
       "      <td>자치구</td>\n",
       "      <td>김재성</td>\n",
       "      <td>서울특별시</td>\n",
       "      <td>경기도 용인시 처인구 이동면 이원로483</td>\n",
       "    </tr>\n",
       "    <tr>\n",
       "      <th>2136</th>\n",
       "      <td>서울시학대피해노인전용쉼터</td>\n",
       "      <td>(노인) 노인보호전문기관</td>\n",
       "      <td>노인보호전문기관</td>\n",
       "      <td>자치구</td>\n",
       "      <td>손세영</td>\n",
       "      <td>서울특별시</td>\n",
       "      <td>서울특별시 도봉구 도봉로108길 83-5 301호 (창동)</td>\n",
       "    </tr>\n",
       "    <tr>\n",
       "      <th>2858</th>\n",
       "      <td>서울시건강가정지원센터</td>\n",
       "      <td>(건강가정) 건강가정지원센터</td>\n",
       "      <td>건강가정지원센터</td>\n",
       "      <td>자치구</td>\n",
       "      <td>계선자</td>\n",
       "      <td>서울특별시</td>\n",
       "      <td>서울특별시 중구 소파로4길 6 (예장동)(예장동)</td>\n",
       "    </tr>\n",
       "    <tr>\n",
       "      <th>3062</th>\n",
       "      <td>서울시정신보건센터</td>\n",
       "      <td>(정신보건) 재활훈련시설-주간재활시설</td>\n",
       "      <td>정신재활시설</td>\n",
       "      <td>자치구</td>\n",
       "      <td>이명수</td>\n",
       "      <td>서울특별시</td>\n",
       "      <td>서울특별시 강남구 봉은사로 21길 6(논현동) 5-7층</td>\n",
       "    </tr>\n",
       "  </tbody>\n",
       "</table>\n",
       "</div>"
      ],
      "text/plain": [
       "                    시설명           시설종류명(시설유형) 시설종류상세명(시설종류) 자치구(시)구분 시설장명  \\\n",
       "495         한국아동복지시설연합회           (아동) 아동양육시설        아동복지시설      자치구  성준경   \n",
       "1508  서울특별시립장애인영농직업재활시설        (장애인) 장애인보호작업장     장애인직업재활시설      자치구  장경언   \n",
       "1581          서울시립영보자애원        (노숙인등) 노숙인요양시설      노숙인등생활시설      자치구  남숙자   \n",
       "1663        서울시립영보정신요양원         (정신보건) 정신요양시설        정신요양시설      자치구  정미현   \n",
       "1688                애림원             (노인) 양로시설      노인주거복지시설      자치구  이상순   \n",
       "1734          행복이가득한집2호       (장애인) 장애인공동생활가정       장애인거주시설      자치구  김세룡   \n",
       "1860       (사)굿하트데이케어센터         (노인) 재가노인복지시설      재가노인복지시설      자치구  길준영   \n",
       "1966       서울시립 영보노인요양원           (노인) 노인요양시설      노인의료복지시설      자치구  김재성   \n",
       "2136      서울시학대피해노인전용쉼터         (노인) 노인보호전문기관      노인보호전문기관      자치구  손세영   \n",
       "2858        서울시건강가정지원센터       (건강가정) 건강가정지원센터      건강가정지원센터      자치구  계선자   \n",
       "3062          서울시정신보건센터  (정신보건) 재활훈련시설-주간재활시설        정신재활시설      자치구  이명수   \n",
       "\n",
       "       시군구명                                    시설주소  \n",
       "495   서울특별시                     서울특별시 용산구 갈월동 용산빌딩   \n",
       "1508  서울특별시                     경기도 남양주시 진접읍 양진로725  \n",
       "1581  서울특별시  경기도 용인시 처인구 이원로 483-0 .이동면 서울특별시립영보자애원  \n",
       "1663  서울특별시                   경기 용인시 처인구 이동면 이원로483  \n",
       "1688  서울특별시                 경기도 시흥시 동서로 895-6 (물왕동)  \n",
       "1734  서울특별시       서울특별시 강서구 월정로18길 20401 (화곡동)(화곡동)  \n",
       "1860  서울특별시     서울특별시 동작구 상도로 121영진빌딩 4층(상도동) (상도동)  \n",
       "1966  서울특별시                  경기도 용인시 처인구 이동면 이원로483  \n",
       "2136  서울특별시        서울특별시 도봉구 도봉로108길 83-5 301호 (창동)  \n",
       "2858  서울특별시             서울특별시 중구 소파로4길 6 (예장동)(예장동)  \n",
       "3062  서울특별시          서울특별시 강남구 봉은사로 21길 6(논현동) 5-7층  "
      ]
     },
     "execution_count": 86,
     "metadata": {},
     "output_type": "execute_result"
    }
   ],
   "source": [
    "# 시군구명에 있는 서울특별시들 확인\n",
    "\n",
    "df_del= df[df['시군구명'].str.contains('서울')]\n",
    "df_del"
   ]
  },
  {
   "cell_type": "code",
   "execution_count": 87,
   "id": "b2fc437a",
   "metadata": {},
   "outputs": [
    {
     "data": {
      "text/html": [
       "<div>\n",
       "<style scoped>\n",
       "    .dataframe tbody tr th:only-of-type {\n",
       "        vertical-align: middle;\n",
       "    }\n",
       "\n",
       "    .dataframe tbody tr th {\n",
       "        vertical-align: top;\n",
       "    }\n",
       "\n",
       "    .dataframe thead th {\n",
       "        text-align: right;\n",
       "    }\n",
       "</style>\n",
       "<table border=\"1\" class=\"dataframe\">\n",
       "  <thead>\n",
       "    <tr style=\"text-align: right;\">\n",
       "      <th></th>\n",
       "      <th>시설명</th>\n",
       "      <th>시설종류명(시설유형)</th>\n",
       "      <th>시설종류상세명(시설종류)</th>\n",
       "      <th>자치구(시)구분</th>\n",
       "      <th>시설장명</th>\n",
       "      <th>시군구명</th>\n",
       "      <th>시설주소</th>\n",
       "    </tr>\n",
       "  </thead>\n",
       "  <tbody>\n",
       "    <tr>\n",
       "      <th>495</th>\n",
       "      <td>한국아동복지시설연합회</td>\n",
       "      <td>(아동) 아동양육시설</td>\n",
       "      <td>아동복지시설</td>\n",
       "      <td>자치구</td>\n",
       "      <td>성준경</td>\n",
       "      <td>서울특별시</td>\n",
       "      <td>서울특별시 용산구 갈월동 용산빌딩</td>\n",
       "    </tr>\n",
       "    <tr>\n",
       "      <th>1730</th>\n",
       "      <td>행복이가득한집2호</td>\n",
       "      <td>(장애인) 장애인공동생활가정</td>\n",
       "      <td>장애인거주시설</td>\n",
       "      <td>자치구</td>\n",
       "      <td>김세룡</td>\n",
       "      <td>서울특별시</td>\n",
       "      <td>서울특별시 강서구 월정로18길 20401 (화곡동)(화곡동)</td>\n",
       "    </tr>\n",
       "    <tr>\n",
       "      <th>1856</th>\n",
       "      <td>(사)굿하트데이케어센터</td>\n",
       "      <td>(노인) 재가노인복지시설</td>\n",
       "      <td>재가노인복지시설</td>\n",
       "      <td>자치구</td>\n",
       "      <td>길준영</td>\n",
       "      <td>서울특별시</td>\n",
       "      <td>서울특별시 동작구 상도로 121영진빌딩 4층(상도동) (상도동)</td>\n",
       "    </tr>\n",
       "    <tr>\n",
       "      <th>2131</th>\n",
       "      <td>서울시학대피해노인전용쉼터</td>\n",
       "      <td>(노인) 노인보호전문기관</td>\n",
       "      <td>노인보호전문기관</td>\n",
       "      <td>자치구</td>\n",
       "      <td>손세영</td>\n",
       "      <td>서울특별시</td>\n",
       "      <td>서울특별시 도봉구 도봉로108길 83-5 301호 (창동)</td>\n",
       "    </tr>\n",
       "    <tr>\n",
       "      <th>2853</th>\n",
       "      <td>서울시건강가정지원센터</td>\n",
       "      <td>(건강가정) 건강가정지원센터</td>\n",
       "      <td>건강가정지원센터</td>\n",
       "      <td>자치구</td>\n",
       "      <td>계선자</td>\n",
       "      <td>서울특별시</td>\n",
       "      <td>서울특별시 중구 소파로4길 6 (예장동)(예장동)</td>\n",
       "    </tr>\n",
       "    <tr>\n",
       "      <th>3057</th>\n",
       "      <td>서울시정신보건센터</td>\n",
       "      <td>(정신보건) 재활훈련시설-주간재활시설</td>\n",
       "      <td>정신재활시설</td>\n",
       "      <td>자치구</td>\n",
       "      <td>이명수</td>\n",
       "      <td>서울특별시</td>\n",
       "      <td>서울특별시 강남구 봉은사로 21길 6(논현동) 5-7층</td>\n",
       "    </tr>\n",
       "  </tbody>\n",
       "</table>\n",
       "</div>"
      ],
      "text/plain": [
       "                시설명           시설종류명(시설유형) 시설종류상세명(시설종류) 자치구(시)구분 시설장명   시군구명  \\\n",
       "495     한국아동복지시설연합회           (아동) 아동양육시설        아동복지시설      자치구  성준경  서울특별시   \n",
       "1730      행복이가득한집2호       (장애인) 장애인공동생활가정       장애인거주시설      자치구  김세룡  서울특별시   \n",
       "1856   (사)굿하트데이케어센터         (노인) 재가노인복지시설      재가노인복지시설      자치구  길준영  서울특별시   \n",
       "2131  서울시학대피해노인전용쉼터         (노인) 노인보호전문기관      노인보호전문기관      자치구  손세영  서울특별시   \n",
       "2853    서울시건강가정지원센터       (건강가정) 건강가정지원센터      건강가정지원센터      자치구  계선자  서울특별시   \n",
       "3057      서울시정신보건센터  (정신보건) 재활훈련시설-주간재활시설        정신재활시설      자치구  이명수  서울특별시   \n",
       "\n",
       "                                     시설주소  \n",
       "495                   서울특별시 용산구 갈월동 용산빌딩   \n",
       "1730    서울특별시 강서구 월정로18길 20401 (화곡동)(화곡동)  \n",
       "1856  서울특별시 동작구 상도로 121영진빌딩 4층(상도동) (상도동)  \n",
       "2131     서울특별시 도봉구 도봉로108길 83-5 301호 (창동)  \n",
       "2853          서울특별시 중구 소파로4길 6 (예장동)(예장동)  \n",
       "3057       서울특별시 강남구 봉은사로 21길 6(논현동) 5-7층  "
      ]
     },
     "execution_count": 87,
     "metadata": {},
     "output_type": "execute_result"
    }
   ],
   "source": [
    "# 경기도 제거\n",
    "\n",
    "df= df.drop([1508,1581,1663,1688,1966], axis=0)\n",
    "df.reset_index(inplace=True, drop=True)\n",
    "df[df['시군구명'].str.contains('서울')]"
   ]
  },
  {
   "cell_type": "code",
   "execution_count": 88,
   "id": "599135a8",
   "metadata": {},
   "outputs": [],
   "source": [
    "# 서울 시군구명 변경... 하...........\n",
    "\n",
    "df.loc[df.시설명 == '한국아동복지시설연합회', ('시군구명')] = '용산구'\n",
    "df.loc[df.시설명 == '행복이가득한집2호', ('시군구명')] = '강서구'\n",
    "df.loc[df.시설명 == '(사)굿하트데이케어센터', ('시군구명')] = '동작구'\n",
    "df.loc[df.시설명 == '서울시학대피해노인전용쉼터', ('시군구명')] = '도봉구'\n",
    "df.loc[df.시설명 == '서울시건강가정지원센터', ('시군구명')] = '중구'\n",
    "df.loc[df.시설명 == '서울시정신보건센터', ('시군구명')] = '강남구'"
   ]
  },
  {
   "cell_type": "code",
   "execution_count": 89,
   "id": "2c596c87",
   "metadata": {},
   "outputs": [
    {
     "data": {
      "text/plain": [
       "노원구     192\n",
       "강서구     190\n",
       "송파구     178\n",
       "은평구     168\n",
       "중랑구     161\n",
       "도봉구     152\n",
       "관악구     150\n",
       "강동구     149\n",
       "양천구     140\n",
       "강북구     138\n",
       "구로구     135\n",
       "성북구     129\n",
       "강남구     127\n",
       "금천구     120\n",
       "영등포구    119\n",
       "동작구     114\n",
       "서대문구    109\n",
       "동대문구    104\n",
       "광진구      95\n",
       "마포구      94\n",
       "서초구      85\n",
       "성동구      80\n",
       "종로구      66\n",
       "용산구      55\n",
       "중구       46\n",
       "Name: 시군구명, dtype: int64"
      ]
     },
     "execution_count": 89,
     "metadata": {},
     "output_type": "execute_result"
    }
   ],
   "source": [
    "# 확인\n",
    "df['시군구명'].value_counts()"
   ]
  },
  {
   "cell_type": "markdown",
   "id": "f9248d2d",
   "metadata": {},
   "source": [
    "## 요약하고 확인"
   ]
  },
  {
   "cell_type": "code",
   "execution_count": 90,
   "id": "d9f684f0",
   "metadata": {},
   "outputs": [
    {
     "data": {
      "text/html": [
       "<div>\n",
       "<style scoped>\n",
       "    .dataframe tbody tr th:only-of-type {\n",
       "        vertical-align: middle;\n",
       "    }\n",
       "\n",
       "    .dataframe tbody tr th {\n",
       "        vertical-align: top;\n",
       "    }\n",
       "\n",
       "    .dataframe thead th {\n",
       "        text-align: right;\n",
       "    }\n",
       "</style>\n",
       "<table border=\"1\" class=\"dataframe\">\n",
       "  <thead>\n",
       "    <tr style=\"text-align: right;\">\n",
       "      <th></th>\n",
       "      <th>시군구명</th>\n",
       "      <th>시설종류상세명(시설종류)</th>\n",
       "    </tr>\n",
       "  </thead>\n",
       "  <tbody>\n",
       "    <tr>\n",
       "      <th>0</th>\n",
       "      <td>중랑구</td>\n",
       "      <td>노인의료복지시설</td>\n",
       "    </tr>\n",
       "    <tr>\n",
       "      <th>1</th>\n",
       "      <td>종로구</td>\n",
       "      <td>노인주거복지시설</td>\n",
       "    </tr>\n",
       "    <tr>\n",
       "      <th>2</th>\n",
       "      <td>종로구</td>\n",
       "      <td>노인의료복지시설</td>\n",
       "    </tr>\n",
       "    <tr>\n",
       "      <th>3</th>\n",
       "      <td>노원구</td>\n",
       "      <td>노인주거복지시설</td>\n",
       "    </tr>\n",
       "    <tr>\n",
       "      <th>4</th>\n",
       "      <td>강서구</td>\n",
       "      <td>노인의료복지시설</td>\n",
       "    </tr>\n",
       "    <tr>\n",
       "      <th>...</th>\n",
       "      <td>...</td>\n",
       "      <td>...</td>\n",
       "    </tr>\n",
       "    <tr>\n",
       "      <th>3091</th>\n",
       "      <td>용산구</td>\n",
       "      <td>장애인기타</td>\n",
       "    </tr>\n",
       "    <tr>\n",
       "      <th>3092</th>\n",
       "      <td>관악구</td>\n",
       "      <td>일반사회복지시설</td>\n",
       "    </tr>\n",
       "    <tr>\n",
       "      <th>3093</th>\n",
       "      <td>종로구</td>\n",
       "      <td>장애인기타</td>\n",
       "    </tr>\n",
       "    <tr>\n",
       "      <th>3094</th>\n",
       "      <td>영등포구</td>\n",
       "      <td>장애인기타</td>\n",
       "    </tr>\n",
       "    <tr>\n",
       "      <th>3095</th>\n",
       "      <td>강남구</td>\n",
       "      <td>장애인기타</td>\n",
       "    </tr>\n",
       "  </tbody>\n",
       "</table>\n",
       "<p>3096 rows × 2 columns</p>\n",
       "</div>"
      ],
      "text/plain": [
       "      시군구명 시설종류상세명(시설종류)\n",
       "0      중랑구      노인의료복지시설\n",
       "1      종로구      노인주거복지시설\n",
       "2      종로구      노인의료복지시설\n",
       "3      노원구      노인주거복지시설\n",
       "4      강서구      노인의료복지시설\n",
       "...    ...           ...\n",
       "3091   용산구         장애인기타\n",
       "3092   관악구      일반사회복지시설\n",
       "3093   종로구         장애인기타\n",
       "3094  영등포구         장애인기타\n",
       "3095   강남구         장애인기타\n",
       "\n",
       "[3096 rows x 2 columns]"
      ]
     },
     "execution_count": 90,
     "metadata": {},
     "output_type": "execute_result"
    }
   ],
   "source": [
    "df[['시군구명','시설종류상세명(시설종류)']]"
   ]
  },
  {
   "cell_type": "code",
   "execution_count": 91,
   "id": "12fc4c54",
   "metadata": {},
   "outputs": [
    {
     "data": {
      "text/plain": [
       "count         3096\n",
       "unique          34\n",
       "top       재가노인복지시설\n",
       "freq           661\n",
       "Name: 시설종류상세명(시설종류), dtype: object"
      ]
     },
     "execution_count": 91,
     "metadata": {},
     "output_type": "execute_result"
    }
   ],
   "source": [
    "df['시설종류상세명(시설종류)'].describe()"
   ]
  },
  {
   "cell_type": "code",
   "execution_count": 92,
   "id": "fe6d3780",
   "metadata": {},
   "outputs": [
    {
     "data": {
      "text/plain": [
       "재가노인복지시설       661\n",
       "아동복지시설         648\n",
       "노인의료복지시설       528\n",
       "장애인거주시설        274\n",
       "장애인지역사회재활시설    234\n",
       "장애인직업재활시설      138\n",
       "정신재활시설         110\n",
       "일반사회복지시설       100\n",
       "노인여가복지시설        97\n",
       "자활시설            31\n",
       "한부모가족복지시설       27\n",
       "노인주거복지시설        26\n",
       "노숙인등생활시설        25\n",
       "건강가정지원센터        23\n",
       "다문화가족복지시설       23\n",
       "장애인기타           22\n",
       "건강기타            22\n",
       "정신보건기타          20\n",
       "노인일자리지원기관       19\n",
       "노숙인등이용시설        12\n",
       "노인기타            11\n",
       "기타시설            10\n",
       "성매매피해지원시설        7\n",
       "여성기타             7\n",
       "장애인의료재활시설        6\n",
       "노인보호전문기관         5\n",
       "정신요양시설           2\n",
       "보육시설             2\n",
       "영유아기타            1\n",
       "결핵한센시설           1\n",
       "한부모가족기타          1\n",
       "청소년복지시설          1\n",
       "장애인생산품판매시설       1\n",
       "다문화가족기타          1\n",
       "Name: 시설종류상세명(시설종류), dtype: int64"
      ]
     },
     "execution_count": 92,
     "metadata": {},
     "output_type": "execute_result"
    }
   ],
   "source": [
    "df['시설종류상세명(시설종류)'].value_counts()"
   ]
  },
  {
   "cell_type": "code",
   "execution_count": 93,
   "id": "f32d48b2",
   "metadata": {},
   "outputs": [
    {
     "data": {
      "text/plain": [
       "(노인) 재가노인복지시설        661\n",
       "(아동) 지역아동센터          433\n",
       "(노인) 노인요양공동생활가정      308\n",
       "(노인) 노인요양시설          220\n",
       "(장애인) 장애인공동생활가정      182\n",
       "                    ... \n",
       "(노숙인등) 노숙인급식시설         1\n",
       "(한부모가족) 한부모가족지원센터      1\n",
       "(여성) 대안교육위탁기관          1\n",
       "(장애인) 점자도서관            1\n",
       "(장애인) 장애인생산품판매시설       1\n",
       "Name: 시설종류명(시설유형), Length: 95, dtype: int64"
      ]
     },
     "execution_count": 93,
     "metadata": {},
     "output_type": "execute_result"
    }
   ],
   "source": [
    "df['시설종류명(시설유형)'].value_counts()"
   ]
  },
  {
   "cell_type": "code",
   "execution_count": 94,
   "id": "d02ba1ab",
   "metadata": {},
   "outputs": [
    {
     "data": {
      "text/plain": [
       "<AxesSubplot:>"
      ]
     },
     "execution_count": 94,
     "metadata": {},
     "output_type": "execute_result"
    },
    {
     "data": {
      "image/png": "[encoded data removed]",
      "text/plain": [
       "<Figure size 504x1296 with 1 Axes>"
      ]
     },
     "metadata": {
      "needs_background": "light"
     },
     "output_type": "display_data"
    }
   ],
   "source": [
    "h= df['시설종류명(시설유형)'].value_counts()\n",
    "h.sort_values().plot.barh(figsize=(7,18))"
   ]
  },
  {
   "cell_type": "code",
   "execution_count": 95,
   "id": "f3dae2ff",
   "metadata": {
    "scrolled": true
   },
   "outputs": [
    {
     "data": {
      "text/plain": [
       "<AxesSubplot:>"
      ]
     },
     "execution_count": 95,
     "metadata": {},
     "output_type": "execute_result"
    },
    {
     "data": {
      "image/png": "[encoded data removed]",
      "text/plain": [
       "<Figure size 504x576 with 1 Axes>"
      ]
     },
     "metadata": {
      "needs_background": "light"
     },
     "output_type": "display_data"
    }
   ],
   "source": [
    "#\n",
    "n= df['시설종류상세명(시설종류)'].value_counts()\n",
    "n.sort_values().plot.barh(figsize=(7,8))"
   ]
  },
  {
   "cell_type": "code",
   "execution_count": null,
   "id": "a89fd57d",
   "metadata": {},
   "outputs": [],
   "source": []
  },
  {
   "cell_type": "markdown",
   "id": "084348dd",
   "metadata": {},
   "source": [
    "# 시각화"
   ]
  },
  {
   "cell_type": "code",
   "execution_count": 96,
   "id": "39c58695",
   "metadata": {},
   "outputs": [
    {
     "data": {
      "text/plain": [
       "<AxesSubplot:xlabel='시군구명', ylabel='count'>"
      ]
     },
     "execution_count": 96,
     "metadata": {},
     "output_type": "execute_result"
    },
    {
     "data": {
      "image/png": "[encoded data removed]",
      "text/plain": [
       "<Figure size 1224x288 with 1 Axes>"
      ]
     },
     "metadata": {
      "needs_background": "light"
     },
     "output_type": "display_data"
    }
   ],
   "source": [
    "plt.figure(figsize=(17,4))\n",
    "sns.countplot(data=df,x='시군구명')"
   ]
  },
  {
   "cell_type": "markdown",
   "id": "8ae45fb3",
   "metadata": {},
   "source": [
    "## 서브셋"
   ]
  },
  {
   "cell_type": "code",
   "execution_count": 97,
   "id": "0211892d",
   "metadata": {},
   "outputs": [
    {
     "data": {
      "text/html": [
       "<div>\n",
       "<style scoped>\n",
       "    .dataframe tbody tr th:only-of-type {\n",
       "        vertical-align: middle;\n",
       "    }\n",
       "\n",
       "    .dataframe tbody tr th {\n",
       "        vertical-align: top;\n",
       "    }\n",
       "\n",
       "    .dataframe thead th {\n",
       "        text-align: right;\n",
       "    }\n",
       "</style>\n",
       "<table border=\"1\" class=\"dataframe\">\n",
       "  <thead>\n",
       "    <tr style=\"text-align: right;\">\n",
       "      <th></th>\n",
       "      <th>시설명</th>\n",
       "      <th>시설종류명(시설유형)</th>\n",
       "      <th>시설종류상세명(시설종류)</th>\n",
       "      <th>자치구(시)구분</th>\n",
       "      <th>시설장명</th>\n",
       "      <th>시군구명</th>\n",
       "      <th>시설주소</th>\n",
       "    </tr>\n",
       "  </thead>\n",
       "  <tbody>\n",
       "    <tr>\n",
       "      <th>0</th>\n",
       "      <td>서울꽃동네신내노인요양원</td>\n",
       "      <td>(노인) 노인요양시설</td>\n",
       "      <td>노인의료복지시설</td>\n",
       "      <td>자치구</td>\n",
       "      <td>최은숙</td>\n",
       "      <td>중랑구</td>\n",
       "      <td>서울특별시 중랑구 신내로 194</td>\n",
       "    </tr>\n",
       "    <tr>\n",
       "      <th>1</th>\n",
       "      <td>청운양로원</td>\n",
       "      <td>(노인) 양로시설</td>\n",
       "      <td>노인주거복지시설</td>\n",
       "      <td>자치구</td>\n",
       "      <td>이종명</td>\n",
       "      <td>종로구</td>\n",
       "      <td>서울특별시 종로구 비봉길 76 (구기동)</td>\n",
       "    </tr>\n",
       "    <tr>\n",
       "      <th>2</th>\n",
       "      <td>청운노인요양원</td>\n",
       "      <td>(노인) 노인요양시설</td>\n",
       "      <td>노인의료복지시설</td>\n",
       "      <td>자치구</td>\n",
       "      <td>이종후</td>\n",
       "      <td>종로구</td>\n",
       "      <td>서울특별시 종로구 비봉길 76 (구기동)</td>\n",
       "    </tr>\n",
       "    <tr>\n",
       "      <th>3</th>\n",
       "      <td>홍파양로원</td>\n",
       "      <td>(노인) 양로시설</td>\n",
       "      <td>노인주거복지시설</td>\n",
       "      <td>자치구</td>\n",
       "      <td>김우리</td>\n",
       "      <td>노원구</td>\n",
       "      <td>서울특별시 노원구 동일로248길 30 (상계동)</td>\n",
       "    </tr>\n",
       "    <tr>\n",
       "      <th>4</th>\n",
       "      <td>천사노인요양원</td>\n",
       "      <td>(노인) 노인요양시설</td>\n",
       "      <td>노인의료복지시설</td>\n",
       "      <td>자치구</td>\n",
       "      <td>김샛별</td>\n",
       "      <td>강서구</td>\n",
       "      <td>서울특별시 강서구 강서로45다길 30-22</td>\n",
       "    </tr>\n",
       "    <tr>\n",
       "      <th>...</th>\n",
       "      <td>...</td>\n",
       "      <td>...</td>\n",
       "      <td>...</td>\n",
       "      <td>...</td>\n",
       "      <td>...</td>\n",
       "      <td>...</td>\n",
       "      <td>...</td>\n",
       "    </tr>\n",
       "    <tr>\n",
       "      <th>3032</th>\n",
       "      <td>종로시니어클럽</td>\n",
       "      <td>(노인) 노인일자리지원기관</td>\n",
       "      <td>노인일자리지원기관</td>\n",
       "      <td>자치구</td>\n",
       "      <td>전석달</td>\n",
       "      <td>종로구</td>\n",
       "      <td>서울특별시 종로구 숭인동2길 28(숭인동)</td>\n",
       "    </tr>\n",
       "    <tr>\n",
       "      <th>3036</th>\n",
       "      <td>강서구치매지원센터</td>\n",
       "      <td>(노인) (기타)노인복지시설</td>\n",
       "      <td>노인기타</td>\n",
       "      <td>자치구</td>\n",
       "      <td>정지향</td>\n",
       "      <td>강서구</td>\n",
       "      <td>서울특별시 강서구 화곡로 371경향교회회관 3층</td>\n",
       "    </tr>\n",
       "    <tr>\n",
       "      <th>3070</th>\n",
       "      <td>은평시니어클럽</td>\n",
       "      <td>(노인) 노인일자리지원기관</td>\n",
       "      <td>노인일자리지원기관</td>\n",
       "      <td>자치구</td>\n",
       "      <td>조범기</td>\n",
       "      <td>은평구</td>\n",
       "      <td>서울특별시 은평구 응암로21길 10</td>\n",
       "    </tr>\n",
       "    <tr>\n",
       "      <th>3075</th>\n",
       "      <td>우리마포시니어클럽</td>\n",
       "      <td>(노인) 노인일자리지원기관</td>\n",
       "      <td>노인일자리지원기관</td>\n",
       "      <td>자치구</td>\n",
       "      <td>최철호</td>\n",
       "      <td>마포구</td>\n",
       "      <td>서울특별시 마포구 동교로8길 582층 사무실 (합정동)</td>\n",
       "    </tr>\n",
       "    <tr>\n",
       "      <th>3086</th>\n",
       "      <td>역삼재가노인복지센터</td>\n",
       "      <td>(노인) 경로식당</td>\n",
       "      <td>노인기타</td>\n",
       "      <td>자치구</td>\n",
       "      <td>전희진</td>\n",
       "      <td>강남구</td>\n",
       "      <td>서울특별시 강남구 언주로70길 18 지하1층 (역삼동)</td>\n",
       "    </tr>\n",
       "  </tbody>\n",
       "</table>\n",
       "<p>1347 rows × 7 columns</p>\n",
       "</div>"
      ],
      "text/plain": [
       "               시설명      시설종류명(시설유형) 시설종류상세명(시설종류) 자치구(시)구분 시설장명 시군구명  \\\n",
       "0     서울꽃동네신내노인요양원      (노인) 노인요양시설      노인의료복지시설      자치구  최은숙  중랑구   \n",
       "1            청운양로원        (노인) 양로시설      노인주거복지시설      자치구  이종명  종로구   \n",
       "2          청운노인요양원      (노인) 노인요양시설      노인의료복지시설      자치구  이종후  종로구   \n",
       "3            홍파양로원        (노인) 양로시설      노인주거복지시설      자치구  김우리  노원구   \n",
       "4          천사노인요양원      (노인) 노인요양시설      노인의료복지시설      자치구  김샛별  강서구   \n",
       "...            ...              ...           ...      ...  ...  ...   \n",
       "3032       종로시니어클럽   (노인) 노인일자리지원기관     노인일자리지원기관      자치구  전석달  종로구   \n",
       "3036     강서구치매지원센터  (노인) (기타)노인복지시설          노인기타      자치구  정지향  강서구   \n",
       "3070       은평시니어클럽   (노인) 노인일자리지원기관     노인일자리지원기관      자치구  조범기  은평구   \n",
       "3075     우리마포시니어클럽   (노인) 노인일자리지원기관     노인일자리지원기관      자치구  최철호  마포구   \n",
       "3086    역삼재가노인복지센터        (노인) 경로식당          노인기타      자치구  전희진  강남구   \n",
       "\n",
       "                                시설주소  \n",
       "0                 서울특별시 중랑구 신내로 194   \n",
       "1             서울특별시 종로구 비봉길 76 (구기동)  \n",
       "2             서울특별시 종로구 비봉길 76 (구기동)  \n",
       "3         서울특별시 노원구 동일로248길 30 (상계동)  \n",
       "4            서울특별시 강서구 강서로45다길 30-22  \n",
       "...                              ...  \n",
       "3032         서울특별시 종로구 숭인동2길 28(숭인동)  \n",
       "3036     서울특별시 강서구 화곡로 371경향교회회관 3층   \n",
       "3070             서울특별시 은평구 응암로21길 10  \n",
       "3075  서울특별시 마포구 동교로8길 582층 사무실 (합정동)  \n",
       "3086  서울특별시 강남구 언주로70길 18 지하1층 (역삼동)  \n",
       "\n",
       "[1347 rows x 7 columns]"
      ]
     },
     "execution_count": 97,
     "metadata": {},
     "output_type": "execute_result"
    }
   ],
   "source": [
    "df_old= df[df['시설종류명(시설유형)'].str.contains('노인')]\n",
    "df_old"
   ]
  },
  {
   "cell_type": "code",
   "execution_count": 98,
   "id": "6d5acb6d",
   "metadata": {},
   "outputs": [
    {
     "data": {
      "text/html": [
       "<div>\n",
       "<style scoped>\n",
       "    .dataframe tbody tr th:only-of-type {\n",
       "        vertical-align: middle;\n",
       "    }\n",
       "\n",
       "    .dataframe tbody tr th {\n",
       "        vertical-align: top;\n",
       "    }\n",
       "\n",
       "    .dataframe thead th {\n",
       "        text-align: right;\n",
       "    }\n",
       "</style>\n",
       "<table border=\"1\" class=\"dataframe\">\n",
       "  <thead>\n",
       "    <tr style=\"text-align: right;\">\n",
       "      <th></th>\n",
       "      <th>시설명</th>\n",
       "      <th>시설종류명(시설유형)</th>\n",
       "      <th>시설종류상세명(시설종류)</th>\n",
       "      <th>자치구(시)구분</th>\n",
       "      <th>시설장명</th>\n",
       "      <th>시군구명</th>\n",
       "      <th>시설주소</th>\n",
       "    </tr>\n",
       "  </thead>\n",
       "  <tbody>\n",
       "    <tr>\n",
       "      <th>456</th>\n",
       "      <td>구세군서울후생원</td>\n",
       "      <td>(아동) 아동양육시설</td>\n",
       "      <td>아동복지시설</td>\n",
       "      <td>자치구</td>\n",
       "      <td>김호규</td>\n",
       "      <td>서대문구</td>\n",
       "      <td>서울특별시 서대문구 독립문로8길 41(영천동)</td>\n",
       "    </tr>\n",
       "    <tr>\n",
       "      <th>457</th>\n",
       "      <td>남산원</td>\n",
       "      <td>(아동) 아동양육시설</td>\n",
       "      <td>아동복지시설</td>\n",
       "      <td>자치구</td>\n",
       "      <td>박흥식</td>\n",
       "      <td>중구</td>\n",
       "      <td>서울특별시 중구 소파로2길 31남산원</td>\n",
       "    </tr>\n",
       "    <tr>\n",
       "      <th>458</th>\n",
       "      <td>송죽원</td>\n",
       "      <td>(아동) 아동양육시설</td>\n",
       "      <td>아동복지시설</td>\n",
       "      <td>자치구</td>\n",
       "      <td>권명심</td>\n",
       "      <td>서대문구</td>\n",
       "      <td>서울특별시 서대문구 송죽길 23</td>\n",
       "    </tr>\n",
       "    <tr>\n",
       "      <th>459</th>\n",
       "      <td>강동꿈마을</td>\n",
       "      <td>(아동) 아동양육시설</td>\n",
       "      <td>아동복지시설</td>\n",
       "      <td>자치구</td>\n",
       "      <td>최은미</td>\n",
       "      <td>강동구</td>\n",
       "      <td>서울특별시 강동구 천호대로186길 21 (둔촌동)</td>\n",
       "    </tr>\n",
       "    <tr>\n",
       "      <th>460</th>\n",
       "      <td>리라아동복지관</td>\n",
       "      <td>(아동) 아동양육시설</td>\n",
       "      <td>아동복지시설</td>\n",
       "      <td>자치구</td>\n",
       "      <td>김두식</td>\n",
       "      <td>중구</td>\n",
       "      <td>경기도 안성시 용소길 65-0리라아동복지관</td>\n",
       "    </tr>\n",
       "    <tr>\n",
       "      <th>...</th>\n",
       "      <td>...</td>\n",
       "      <td>...</td>\n",
       "      <td>...</td>\n",
       "      <td>...</td>\n",
       "      <td>...</td>\n",
       "      <td>...</td>\n",
       "      <td>...</td>\n",
       "    </tr>\n",
       "    <tr>\n",
       "      <th>2800</th>\n",
       "      <td>신금호아이꿈누리터(성동11호점 우리동네키움센터)</td>\n",
       "      <td>(아동) 다함께돌봄센터</td>\n",
       "      <td>아동복지시설</td>\n",
       "      <td>자치구</td>\n",
       "      <td>이지숙</td>\n",
       "      <td>성동구</td>\n",
       "      <td>서울특별시 성동구 행당로 6103호 (금호동1가)</td>\n",
       "    </tr>\n",
       "    <tr>\n",
       "      <th>2801</th>\n",
       "      <td>송파희망세상지역아동센터</td>\n",
       "      <td>(아동) 지역아동센터</td>\n",
       "      <td>아동복지시설</td>\n",
       "      <td>자치구</td>\n",
       "      <td>이정훈</td>\n",
       "      <td>송파구</td>\n",
       "      <td>서울특별시 송파구 오금로64길 4 2층 (거여동)</td>\n",
       "    </tr>\n",
       "    <tr>\n",
       "      <th>2846</th>\n",
       "      <td>조대봉님</td>\n",
       "      <td>(아동) 아동양육시설</td>\n",
       "      <td>아동복지시설</td>\n",
       "      <td>자치구</td>\n",
       "      <td>조대봉</td>\n",
       "      <td>서초구</td>\n",
       "      <td>서울특별시 서초구 방배로20길 45층방배동</td>\n",
       "    </tr>\n",
       "    <tr>\n",
       "      <th>2848</th>\n",
       "      <td>국가복지정보 아동시설</td>\n",
       "      <td>(아동) 아동양육시설</td>\n",
       "      <td>아동복지시설</td>\n",
       "      <td>자치구</td>\n",
       "      <td>홍길똥</td>\n",
       "      <td>서초구</td>\n",
       "      <td>서울특별시 서초구 방배로20길 4원등빌딩 5층방배동</td>\n",
       "    </tr>\n",
       "    <tr>\n",
       "      <th>2907</th>\n",
       "      <td>지온보육원</td>\n",
       "      <td>(아동) 아동양육시설</td>\n",
       "      <td>아동복지시설</td>\n",
       "      <td>자치구</td>\n",
       "      <td>박국자</td>\n",
       "      <td>강서구</td>\n",
       "      <td>서울특별시 강서구 금낭화로26가길 120</td>\n",
       "    </tr>\n",
       "  </tbody>\n",
       "</table>\n",
       "<p>652 rows × 7 columns</p>\n",
       "</div>"
      ],
      "text/plain": [
       "                             시설명   시설종류명(시설유형) 시설종류상세명(시설종류) 자치구(시)구분 시설장명  \\\n",
       "456                     구세군서울후생원   (아동) 아동양육시설        아동복지시설      자치구  김호규   \n",
       "457                          남산원   (아동) 아동양육시설        아동복지시설      자치구  박흥식   \n",
       "458                          송죽원   (아동) 아동양육시설        아동복지시설      자치구  권명심   \n",
       "459                        강동꿈마을   (아동) 아동양육시설        아동복지시설      자치구  최은미   \n",
       "460                      리라아동복지관   (아동) 아동양육시설        아동복지시설      자치구  김두식   \n",
       "...                          ...           ...           ...      ...  ...   \n",
       "2800  신금호아이꿈누리터(성동11호점 우리동네키움센터)  (아동) 다함께돌봄센터        아동복지시설      자치구  이지숙   \n",
       "2801                송파희망세상지역아동센터   (아동) 지역아동센터        아동복지시설      자치구  이정훈   \n",
       "2846                        조대봉님   (아동) 아동양육시설        아동복지시설      자치구  조대봉   \n",
       "2848                 국가복지정보 아동시설   (아동) 아동양육시설        아동복지시설      자치구  홍길똥   \n",
       "2907                       지온보육원   (아동) 아동양육시설        아동복지시설      자치구  박국자   \n",
       "\n",
       "      시군구명                          시설주소  \n",
       "456   서대문구     서울특별시 서대문구 독립문로8길 41(영천동)  \n",
       "457     중구          서울특별시 중구 소파로2길 31남산원  \n",
       "458   서대문구             서울특별시 서대문구 송죽길 23  \n",
       "459    강동구   서울특별시 강동구 천호대로186길 21 (둔촌동)  \n",
       "460     중구       경기도 안성시 용소길 65-0리라아동복지관  \n",
       "...    ...                           ...  \n",
       "2800   성동구   서울특별시 성동구 행당로 6103호 (금호동1가)  \n",
       "2801   송파구   서울특별시 송파구 오금로64길 4 2층 (거여동)  \n",
       "2846   서초구       서울특별시 서초구 방배로20길 45층방배동  \n",
       "2848   서초구  서울특별시 서초구 방배로20길 4원등빌딩 5층방배동  \n",
       "2907   강서구        서울특별시 강서구 금낭화로26가길 120  \n",
       "\n",
       "[652 rows x 7 columns]"
      ]
     },
     "execution_count": 98,
     "metadata": {},
     "output_type": "execute_result"
    }
   ],
   "source": [
    "df_chi= df[df['시설종류명(시설유형)'].str.contains('아동')]\n",
    "df_chi"
   ]
  },
  {
   "cell_type": "code",
   "execution_count": 99,
   "id": "b5522e13",
   "metadata": {},
   "outputs": [
    {
     "data": {
      "text/html": [
       "<div>\n",
       "<style scoped>\n",
       "    .dataframe tbody tr th:only-of-type {\n",
       "        vertical-align: middle;\n",
       "    }\n",
       "\n",
       "    .dataframe tbody tr th {\n",
       "        vertical-align: top;\n",
       "    }\n",
       "\n",
       "    .dataframe thead th {\n",
       "        text-align: right;\n",
       "    }\n",
       "</style>\n",
       "<table border=\"1\" class=\"dataframe\">\n",
       "  <thead>\n",
       "    <tr style=\"text-align: right;\">\n",
       "      <th></th>\n",
       "      <th>시설명</th>\n",
       "      <th>시설종류명(시설유형)</th>\n",
       "      <th>시설종류상세명(시설종류)</th>\n",
       "      <th>자치구(시)구분</th>\n",
       "      <th>시설장명</th>\n",
       "      <th>시군구명</th>\n",
       "      <th>시설주소</th>\n",
       "    </tr>\n",
       "  </thead>\n",
       "  <tbody>\n",
       "    <tr>\n",
       "      <th>190</th>\n",
       "      <td>송파구방이복지관</td>\n",
       "      <td>(장애인) 장애인복지관</td>\n",
       "      <td>장애인지역사회재활시설</td>\n",
       "      <td>자치구</td>\n",
       "      <td>김진숙</td>\n",
       "      <td>송파구</td>\n",
       "      <td>서울특별시 송파구 오금로11길 68</td>\n",
       "    </tr>\n",
       "    <tr>\n",
       "      <th>197</th>\n",
       "      <td>서울시각장애인복지관</td>\n",
       "      <td>(장애인) 장애인복지관</td>\n",
       "      <td>장애인지역사회재활시설</td>\n",
       "      <td>자치구</td>\n",
       "      <td>허경아</td>\n",
       "      <td>송파구</td>\n",
       "      <td>서울특별시 송파구 삼학사로19길 27</td>\n",
       "    </tr>\n",
       "    <tr>\n",
       "      <th>198</th>\n",
       "      <td>서울시립발달장애인복지관</td>\n",
       "      <td>(장애인) 장애인복지관</td>\n",
       "      <td>장애인지역사회재활시설</td>\n",
       "      <td>자치구</td>\n",
       "      <td>최선자</td>\n",
       "      <td>동작구</td>\n",
       "      <td>서울특별시 동작구 여의대방로20길 33-0395(보라매공원내)</td>\n",
       "    </tr>\n",
       "    <tr>\n",
       "      <th>203</th>\n",
       "      <td>청음복지관</td>\n",
       "      <td>(장애인) 장애인복지관</td>\n",
       "      <td>장애인지역사회재활시설</td>\n",
       "      <td>자치구</td>\n",
       "      <td>심계원</td>\n",
       "      <td>강남구</td>\n",
       "      <td>서울특별시 강남구 봉은사로50길 6</td>\n",
       "    </tr>\n",
       "    <tr>\n",
       "      <th>204</th>\n",
       "      <td>마포장애인종합복지관</td>\n",
       "      <td>(장애인) 장애인복지관</td>\n",
       "      <td>장애인지역사회재활시설</td>\n",
       "      <td>자치구</td>\n",
       "      <td>김명규</td>\n",
       "      <td>마포구</td>\n",
       "      <td>서울특별시 마포구 성산로4길 353층(마포장애인종합복지관)(성산동)</td>\n",
       "    </tr>\n",
       "    <tr>\n",
       "      <th>...</th>\n",
       "      <td>...</td>\n",
       "      <td>...</td>\n",
       "      <td>...</td>\n",
       "      <td>...</td>\n",
       "      <td>...</td>\n",
       "      <td>...</td>\n",
       "      <td>...</td>\n",
       "    </tr>\n",
       "    <tr>\n",
       "      <th>3090</th>\n",
       "      <td>서대문장애인가족지원센터</td>\n",
       "      <td>(장애인) (기타)장애인복지시설</td>\n",
       "      <td>장애인기타</td>\n",
       "      <td>자치구</td>\n",
       "      <td>정희경</td>\n",
       "      <td>서대문구</td>\n",
       "      <td>서울특별시 서대문구 세검정로 78-19 1층 (홍제동)</td>\n",
       "    </tr>\n",
       "    <tr>\n",
       "      <th>3091</th>\n",
       "      <td>용산구장애인가족지원센터</td>\n",
       "      <td>(장애인) (기타)장애인복지시설</td>\n",
       "      <td>장애인기타</td>\n",
       "      <td>자치구</td>\n",
       "      <td>송인수</td>\n",
       "      <td>용산구</td>\n",
       "      <td>서울특별시 용산구 서빙고로 245 2층 (서빙고동 용산구장애인커뮤니티센터)</td>\n",
       "    </tr>\n",
       "    <tr>\n",
       "      <th>3093</th>\n",
       "      <td>종로발달장애인평생교육센터</td>\n",
       "      <td>(장애인) (기타)장애인복지시설</td>\n",
       "      <td>장애인기타</td>\n",
       "      <td>자치구</td>\n",
       "      <td>신건철</td>\n",
       "      <td>종로구</td>\n",
       "      <td>서울특별시 종로구 종로17길 8 (종로2가)</td>\n",
       "    </tr>\n",
       "    <tr>\n",
       "      <th>3094</th>\n",
       "      <td>영등포구 발달장애인평생교육센터</td>\n",
       "      <td>(장애인) (기타)장애인복지시설</td>\n",
       "      <td>장애인기타</td>\n",
       "      <td>자치구</td>\n",
       "      <td>서성진</td>\n",
       "      <td>영등포구</td>\n",
       "      <td>서울특별시 영등포구 영등포로 146 (당산동1가)</td>\n",
       "    </tr>\n",
       "    <tr>\n",
       "      <th>3095</th>\n",
       "      <td>미미위역삼 발달장애인평생교육센터</td>\n",
       "      <td>(장애인) (기타)장애인복지시설</td>\n",
       "      <td>장애인기타</td>\n",
       "      <td>자치구</td>\n",
       "      <td>김미현</td>\n",
       "      <td>강남구</td>\n",
       "      <td>서울특별시 강남구 논현로86길 21 2층 (역삼동)</td>\n",
       "    </tr>\n",
       "  </tbody>\n",
       "</table>\n",
       "<p>675 rows × 7 columns</p>\n",
       "</div>"
      ],
      "text/plain": [
       "                    시설명        시설종류명(시설유형) 시설종류상세명(시설종류) 자치구(시)구분 시설장명  시군구명  \\\n",
       "190            송파구방이복지관       (장애인) 장애인복지관   장애인지역사회재활시설      자치구  김진숙   송파구   \n",
       "197          서울시각장애인복지관       (장애인) 장애인복지관   장애인지역사회재활시설      자치구  허경아   송파구   \n",
       "198        서울시립발달장애인복지관       (장애인) 장애인복지관   장애인지역사회재활시설      자치구  최선자   동작구   \n",
       "203               청음복지관       (장애인) 장애인복지관   장애인지역사회재활시설      자치구  심계원   강남구   \n",
       "204          마포장애인종합복지관       (장애인) 장애인복지관   장애인지역사회재활시설      자치구  김명규   마포구   \n",
       "...                 ...                ...           ...      ...  ...   ...   \n",
       "3090       서대문장애인가족지원센터  (장애인) (기타)장애인복지시설         장애인기타      자치구  정희경  서대문구   \n",
       "3091       용산구장애인가족지원센터  (장애인) (기타)장애인복지시설         장애인기타      자치구  송인수   용산구   \n",
       "3093      종로발달장애인평생교육센터  (장애인) (기타)장애인복지시설         장애인기타      자치구  신건철   종로구   \n",
       "3094   영등포구 발달장애인평생교육센터  (장애인) (기타)장애인복지시설         장애인기타      자치구  서성진  영등포구   \n",
       "3095  미미위역삼 발달장애인평생교육센터  (장애인) (기타)장애인복지시설         장애인기타      자치구  김미현   강남구   \n",
       "\n",
       "                                           시설주소  \n",
       "190                       서울특별시 송파구 오금로11길 68    \n",
       "197                       서울특별시 송파구 삼학사로19길 27　  \n",
       "198          서울특별시 동작구 여의대방로20길 33-0395(보라매공원내)  \n",
       "203                        서울특별시 강남구 봉은사로50길 6　  \n",
       "204       서울특별시 마포구 성산로4길 353층(마포장애인종합복지관)(성산동)  \n",
       "...                                         ...  \n",
       "3090             서울특별시 서대문구 세검정로 78-19 1층 (홍제동)  \n",
       "3091  서울특별시 용산구 서빙고로 245 2층 (서빙고동 용산구장애인커뮤니티센터)  \n",
       "3093                   서울특별시 종로구 종로17길 8 (종로2가)  \n",
       "3094                서울특별시 영등포구 영등포로 146 (당산동1가)  \n",
       "3095               서울특별시 강남구 논현로86길 21 2층 (역삼동)  \n",
       "\n",
       "[675 rows x 7 columns]"
      ]
     },
     "execution_count": 99,
     "metadata": {},
     "output_type": "execute_result"
    }
   ],
   "source": [
    "df_dis= df[df['시설종류명(시설유형)'].str.contains('장애인')]\n",
    "df_dis"
   ]
  },
  {
   "cell_type": "markdown",
   "id": "af1a613a",
   "metadata": {},
   "source": [
    "## 구별 시설 수"
   ]
  },
  {
   "cell_type": "code",
   "execution_count": 100,
   "id": "4d9a60d3",
   "metadata": {},
   "outputs": [
    {
     "data": {
      "text/plain": [
       "시설종류상세명(시설종류)\n",
       "건강가정지원센터        1\n",
       "건강기타            1\n",
       "기타시설            1\n",
       "노인여가복지시설        4\n",
       "노인의료복지시설       30\n",
       "노인일자리지원기관       1\n",
       "노인주거복지시설        2\n",
       "다문화가족복지시설       1\n",
       "아동복지시설         28\n",
       "영유아기타           1\n",
       "일반사회복지시설        9\n",
       "자활시설            3\n",
       "장애인거주시설        23\n",
       "장애인기타           1\n",
       "장애인지역사회재활시설    27\n",
       "장애인직업재활시설       9\n",
       "재가노인복지시설       44\n",
       "정신보건기타          1\n",
       "정신재활시설          4\n",
       "한부모가족복지시설       1\n",
       "Name: 자치구(시)구분, dtype: int64"
      ]
     },
     "execution_count": 100,
     "metadata": {},
     "output_type": "execute_result"
    }
   ],
   "source": [
    "df_t= df.groupby(['시군구명','시설종류상세명(시설종류)'])['자치구(시)구분'].count()\n",
    "df_t.loc['노원구']"
   ]
  },
  {
   "cell_type": "code",
   "execution_count": 101,
   "id": "0aec7740",
   "metadata": {},
   "outputs": [
    {
     "data": {
      "text/plain": [
       "시군구명  시설종류상세명(시설종류)\n",
       "강남구   건강가정지원센터          1\n",
       "      건강기타              1\n",
       "      기타시설              2\n",
       "      노숙인등생활시설          1\n",
       "      노인기타              1\n",
       "                       ..\n",
       "중랑구   장애인지역사회재활시설       3\n",
       "      장애인직업재활시설         7\n",
       "      재가노인복지시설         48\n",
       "      정신보건기타            1\n",
       "      정신재활시설            6\n",
       "Name: 자치구(시)구분, Length: 461, dtype: int64"
      ]
     },
     "execution_count": 101,
     "metadata": {},
     "output_type": "execute_result"
    }
   ],
   "source": [
    "t= df.groupby(['시군구명','시설종류상세명(시설종류)'])['자치구(시)구분'].count()\n",
    "t"
   ]
  },
  {
   "cell_type": "code",
   "execution_count": 102,
   "id": "42585ec2",
   "metadata": {},
   "outputs": [
    {
     "data": {
      "text/plain": [
       "<AxesSubplot:ylabel='시설종류상세명(시설종류)'>"
      ]
     },
     "execution_count": 102,
     "metadata": {},
     "output_type": "execute_result"
    },
    {
     "data": {
      "image/png": "[encoded data removed]",
      "text/plain": [
       "<Figure size 720x504 with 1 Axes>"
      ]
     },
     "metadata": {
      "needs_background": "light"
     },
     "output_type": "display_data"
    }
   ],
   "source": [
    "# 노인 관련 시설이 가장 많다.\n",
    "\n",
    "t.sort_values().loc['노원구'].plot.barh(figsize=(10,7))"
   ]
  },
  {
   "cell_type": "code",
   "execution_count": 103,
   "id": "f2b8e63f",
   "metadata": {},
   "outputs": [
    {
     "data": {
      "text/plain": [
       "<AxesSubplot:ylabel='시설종류상세명(시설종류)'>"
      ]
     },
     "execution_count": 103,
     "metadata": {},
     "output_type": "execute_result"
    },
    {
     "data": {
      "image/png": "[encoded data removed]",
      "text/plain": [
       "<Figure size 720x504 with 1 Axes>"
      ]
     },
     "metadata": {
      "needs_background": "light"
     },
     "output_type": "display_data"
    }
   ],
   "source": [
    "# 노원구와는 다르게 노인복지시설 다음으로 장애인 거주시설이 많다.\n",
    "\n",
    "t.sort_values().loc['강서구'].plot.barh(figsize=(10,7))"
   ]
  },
  {
   "cell_type": "code",
   "execution_count": 121,
   "id": "929f41ec",
   "metadata": {},
   "outputs": [
    {
     "data": {
      "text/plain": [
       "<AxesSubplot:ylabel='시설종류상세명(시설종류)'>"
      ]
     },
     "execution_count": 121,
     "metadata": {},
     "output_type": "execute_result"
    },
    {
     "data": {
      "image/png": "[encoded data removed]",
      "text/plain": [
       "<Figure size 720x504 with 1 Axes>"
      ]
     },
     "metadata": {
      "needs_background": "light"
     },
     "output_type": "display_data"
    }
   ],
   "source": [
    "t.sort_values().loc['송파구'].plot.barh(figsize=(10,7))"
   ]
  },
  {
   "cell_type": "code",
   "execution_count": 120,
   "id": "d0a0df23",
   "metadata": {},
   "outputs": [
    {
     "data": {
      "text/plain": [
       "<AxesSubplot:ylabel='시설종류상세명(시설종류)'>"
      ]
     },
     "execution_count": 120,
     "metadata": {},
     "output_type": "execute_result"
    },
    {
     "data": {
      "image/png": "[encoded data removed]",
      "text/plain": [
       "<Figure size 720x504 with 1 Axes>"
      ]
     },
     "metadata": {
      "needs_background": "light"
     },
     "output_type": "display_data"
    }
   ],
   "source": [
    "# 제일 시설 수가 적은 중구를 확인해보니 이곳도 역시 노인 복지시설이 많다.\n",
    "\n",
    "t.sort_values().loc['중구'].plot.barh(figsize=(10,7))"
   ]
  },
  {
   "cell_type": "code",
   "execution_count": 105,
   "id": "999bfe15",
   "metadata": {},
   "outputs": [
    {
     "data": {
      "text/html": [
       "<div>\n",
       "<style scoped>\n",
       "    .dataframe tbody tr th:only-of-type {\n",
       "        vertical-align: middle;\n",
       "    }\n",
       "\n",
       "    .dataframe tbody tr th {\n",
       "        vertical-align: top;\n",
       "    }\n",
       "\n",
       "    .dataframe thead th {\n",
       "        text-align: right;\n",
       "    }\n",
       "</style>\n",
       "<table border=\"1\" class=\"dataframe\">\n",
       "  <thead>\n",
       "    <tr style=\"text-align: right;\">\n",
       "      <th></th>\n",
       "      <th>시군구명</th>\n",
       "      <th>시설종류상세명(시설종류)</th>\n",
       "      <th>시설수</th>\n",
       "    </tr>\n",
       "  </thead>\n",
       "  <tbody>\n",
       "    <tr>\n",
       "      <th>0</th>\n",
       "      <td>강남구</td>\n",
       "      <td>건강가정지원센터</td>\n",
       "      <td>1</td>\n",
       "    </tr>\n",
       "    <tr>\n",
       "      <th>1</th>\n",
       "      <td>강남구</td>\n",
       "      <td>건강기타</td>\n",
       "      <td>1</td>\n",
       "    </tr>\n",
       "    <tr>\n",
       "      <th>2</th>\n",
       "      <td>강남구</td>\n",
       "      <td>기타시설</td>\n",
       "      <td>2</td>\n",
       "    </tr>\n",
       "    <tr>\n",
       "      <th>3</th>\n",
       "      <td>강남구</td>\n",
       "      <td>노숙인등생활시설</td>\n",
       "      <td>1</td>\n",
       "    </tr>\n",
       "    <tr>\n",
       "      <th>4</th>\n",
       "      <td>강남구</td>\n",
       "      <td>노인기타</td>\n",
       "      <td>1</td>\n",
       "    </tr>\n",
       "  </tbody>\n",
       "</table>\n",
       "</div>"
      ],
      "text/plain": [
       "  시군구명 시설종류상세명(시설종류)  시설수\n",
       "0  강남구      건강가정지원센터    1\n",
       "1  강남구          건강기타    1\n",
       "2  강남구          기타시설    2\n",
       "3  강남구      노숙인등생활시설    1\n",
       "4  강남구          노인기타    1"
      ]
     },
     "execution_count": 105,
     "metadata": {},
     "output_type": "execute_result"
    }
   ],
   "source": [
    "t_re= t.reset_index()\n",
    "df_t= t_re.rename(columns={'자치구(시)구분':'시설수'})\n",
    "df_t.head()"
   ]
  },
  {
   "cell_type": "code",
   "execution_count": 106,
   "id": "19b9c7c3",
   "metadata": {},
   "outputs": [
    {
     "data": {
      "text/plain": [
       "<seaborn.axisgrid.FacetGrid at 0x22e257ee340>"
      ]
     },
     "execution_count": 106,
     "metadata": {},
     "output_type": "execute_result"
    },
    {
     "data": {
      "image/png": "[encoded data removed]",
      "text/plain": [
       "<Figure size 1440x2520 with 25 Axes>"
      ]
     },
     "metadata": {
      "needs_background": "light"
     },
     "output_type": "display_data"
    }
   ],
   "source": [
    "sns.catplot(data=df_t, x='시설종류상세명(시설종류)',y='시설수', kind='bar'\n",
    "            ,col='시군구명',col_wrap=4)"
   ]
  },
  {
   "cell_type": "markdown",
   "id": "ff692ca5",
   "metadata": {},
   "source": [
    "## 노인/ 장애인으로 구별"
   ]
  },
  {
   "cell_type": "markdown",
   "id": "56a64bac",
   "metadata": {},
   "source": [
    "### 노인"
   ]
  },
  {
   "cell_type": "code",
   "execution_count": 107,
   "id": "c1fc2361",
   "metadata": {},
   "outputs": [
    {
     "data": {
      "text/plain": [
       "시군구명  시설종류상세명(시설종류)\n",
       "강남구   노인기타              1\n",
       "      노인여가복지시설          7\n",
       "      노인의료복지시설         10\n",
       "      노인일자리지원기관         1\n",
       "      노인주거복지시설          2\n",
       "                       ..\n",
       "중구    재가노인복지시설          9\n",
       "중랑구   노인기타              1\n",
       "      노인여가복지시설          5\n",
       "      노인의료복지시설         48\n",
       "      재가노인복지시설         48\n",
       "Name: 자치구(시)구분, Length: 123, dtype: int64"
      ]
     },
     "execution_count": 107,
     "metadata": {},
     "output_type": "execute_result"
    }
   ],
   "source": [
    "old= df_old.groupby(['시군구명','시설종류상세명(시설종류)'])['자치구(시)구분'].count()\n",
    "old"
   ]
  },
  {
   "cell_type": "code",
   "execution_count": 108,
   "id": "4e2a518f",
   "metadata": {},
   "outputs": [
    {
     "data": {
      "text/html": [
       "<div>\n",
       "<style scoped>\n",
       "    .dataframe tbody tr th:only-of-type {\n",
       "        vertical-align: middle;\n",
       "    }\n",
       "\n",
       "    .dataframe tbody tr th {\n",
       "        vertical-align: top;\n",
       "    }\n",
       "\n",
       "    .dataframe thead th {\n",
       "        text-align: right;\n",
       "    }\n",
       "</style>\n",
       "<table border=\"1\" class=\"dataframe\">\n",
       "  <thead>\n",
       "    <tr style=\"text-align: right;\">\n",
       "      <th></th>\n",
       "      <th>시군구명</th>\n",
       "      <th>시설종류상세명(시설종류)</th>\n",
       "      <th>시설수</th>\n",
       "    </tr>\n",
       "  </thead>\n",
       "  <tbody>\n",
       "    <tr>\n",
       "      <th>0</th>\n",
       "      <td>강남구</td>\n",
       "      <td>노인기타</td>\n",
       "      <td>1</td>\n",
       "    </tr>\n",
       "    <tr>\n",
       "      <th>1</th>\n",
       "      <td>강남구</td>\n",
       "      <td>노인여가복지시설</td>\n",
       "      <td>7</td>\n",
       "    </tr>\n",
       "    <tr>\n",
       "      <th>2</th>\n",
       "      <td>강남구</td>\n",
       "      <td>노인의료복지시설</td>\n",
       "      <td>10</td>\n",
       "    </tr>\n",
       "    <tr>\n",
       "      <th>3</th>\n",
       "      <td>강남구</td>\n",
       "      <td>노인일자리지원기관</td>\n",
       "      <td>1</td>\n",
       "    </tr>\n",
       "    <tr>\n",
       "      <th>4</th>\n",
       "      <td>강남구</td>\n",
       "      <td>노인주거복지시설</td>\n",
       "      <td>2</td>\n",
       "    </tr>\n",
       "  </tbody>\n",
       "</table>\n",
       "</div>"
      ],
      "text/plain": [
       "  시군구명 시설종류상세명(시설종류)  시설수\n",
       "0  강남구          노인기타    1\n",
       "1  강남구      노인여가복지시설    7\n",
       "2  강남구      노인의료복지시설   10\n",
       "3  강남구     노인일자리지원기관    1\n",
       "4  강남구      노인주거복지시설    2"
      ]
     },
     "execution_count": 108,
     "metadata": {},
     "output_type": "execute_result"
    }
   ],
   "source": [
    "n= old.reset_index()\n",
    "df_o= n.rename(columns={'자치구(시)구분':'시설수'})\n",
    "df_o.head()"
   ]
  },
  {
   "cell_type": "code",
   "execution_count": 109,
   "id": "c2d78f8d",
   "metadata": {},
   "outputs": [
    {
     "data": {
      "text/plain": [
       "<AxesSubplot:xlabel='시설종류상세명(시설종류)', ylabel='시설수'>"
      ]
     },
     "execution_count": 109,
     "metadata": {},
     "output_type": "execute_result"
    },
    {
     "data": {
      "image/png": "[encoded data removed]",
      "text/plain": [
       "<Figure size 936x360 with 1 Axes>"
      ]
     },
     "metadata": {
      "needs_background": "light"
     },
     "output_type": "display_data"
    }
   ],
   "source": [
    "plt.figure(figsize=(13,5))\n",
    "sns.barplot(data=df_o, x='시설종류상세명(시설종류)',y='시설수',ci=None)"
   ]
  },
  {
   "cell_type": "markdown",
   "id": "372d2eee",
   "metadata": {},
   "source": [
    "### 장애인"
   ]
  },
  {
   "cell_type": "code",
   "execution_count": 110,
   "id": "267bc42c",
   "metadata": {},
   "outputs": [
    {
     "data": {
      "text/plain": [
       "시군구명  시설종류상세명(시설종류)\n",
       "강남구   장애인거주시설          24\n",
       "      장애인기타             5\n",
       "      장애인지역사회재활시설      17\n",
       "      장애인직업재활시설         9\n",
       "강동구   장애인거주시설          20\n",
       "                       ..\n",
       "중구    장애인지역사회재활시설       8\n",
       "      장애인직업재활시설         1\n",
       "중랑구   장애인거주시설           3\n",
       "      장애인지역사회재활시설       3\n",
       "      장애인직업재활시설         7\n",
       "Name: 자치구(시)구분, Length: 92, dtype: int64"
      ]
     },
     "execution_count": 110,
     "metadata": {},
     "output_type": "execute_result"
    }
   ],
   "source": [
    "disabled= df_dis.groupby(['시군구명','시설종류상세명(시설종류)'])['자치구(시)구분'].count()\n",
    "disabled"
   ]
  },
  {
   "cell_type": "code",
   "execution_count": 111,
   "id": "04345451",
   "metadata": {},
   "outputs": [
    {
     "data": {
      "text/html": [
       "<div>\n",
       "<style scoped>\n",
       "    .dataframe tbody tr th:only-of-type {\n",
       "        vertical-align: middle;\n",
       "    }\n",
       "\n",
       "    .dataframe tbody tr th {\n",
       "        vertical-align: top;\n",
       "    }\n",
       "\n",
       "    .dataframe thead th {\n",
       "        text-align: right;\n",
       "    }\n",
       "</style>\n",
       "<table border=\"1\" class=\"dataframe\">\n",
       "  <thead>\n",
       "    <tr style=\"text-align: right;\">\n",
       "      <th></th>\n",
       "      <th>시군구명</th>\n",
       "      <th>시설종류상세명(시설종류)</th>\n",
       "      <th>시설수</th>\n",
       "    </tr>\n",
       "  </thead>\n",
       "  <tbody>\n",
       "    <tr>\n",
       "      <th>0</th>\n",
       "      <td>강남구</td>\n",
       "      <td>장애인거주시설</td>\n",
       "      <td>24</td>\n",
       "    </tr>\n",
       "    <tr>\n",
       "      <th>1</th>\n",
       "      <td>강남구</td>\n",
       "      <td>장애인기타</td>\n",
       "      <td>5</td>\n",
       "    </tr>\n",
       "    <tr>\n",
       "      <th>2</th>\n",
       "      <td>강남구</td>\n",
       "      <td>장애인지역사회재활시설</td>\n",
       "      <td>17</td>\n",
       "    </tr>\n",
       "    <tr>\n",
       "      <th>3</th>\n",
       "      <td>강남구</td>\n",
       "      <td>장애인직업재활시설</td>\n",
       "      <td>9</td>\n",
       "    </tr>\n",
       "    <tr>\n",
       "      <th>4</th>\n",
       "      <td>강동구</td>\n",
       "      <td>장애인거주시설</td>\n",
       "      <td>20</td>\n",
       "    </tr>\n",
       "  </tbody>\n",
       "</table>\n",
       "</div>"
      ],
      "text/plain": [
       "  시군구명 시설종류상세명(시설종류)  시설수\n",
       "0  강남구       장애인거주시설   24\n",
       "1  강남구         장애인기타    5\n",
       "2  강남구   장애인지역사회재활시설   17\n",
       "3  강남구     장애인직업재활시설    9\n",
       "4  강동구       장애인거주시설   20"
      ]
     },
     "execution_count": 111,
     "metadata": {},
     "output_type": "execute_result"
    }
   ],
   "source": [
    "x= disabled.reset_index()\n",
    "df_d= x.rename(columns={'자치구(시)구분':'시설수'})\n",
    "df_d.head()"
   ]
  },
  {
   "cell_type": "code",
   "execution_count": 112,
   "id": "1556eb19",
   "metadata": {},
   "outputs": [
    {
     "data": {
      "text/plain": [
       "<AxesSubplot:xlabel='시설종류상세명(시설종류)', ylabel='시설수'>"
      ]
     },
     "execution_count": 112,
     "metadata": {},
     "output_type": "execute_result"
    },
    {
     "data": {
      "image/png": "[encoded data removed]",
      "text/plain": [
       "<Figure size 936x360 with 1 Axes>"
      ]
     },
     "metadata": {
      "needs_background": "light"
     },
     "output_type": "display_data"
    }
   ],
   "source": [
    "plt.figure(figsize=(13,5))\n",
    "sns.barplot(data=df_d, x='시설종류상세명(시설종류)',y='시설수',ci=None)"
   ]
  },
  {
   "cell_type": "code",
   "execution_count": null,
   "id": "227113e1",
   "metadata": {},
   "outputs": [],
   "source": []
  },
  {
   "cell_type": "markdown",
   "id": "ddca1ede",
   "metadata": {},
   "source": [
    "# 지도에 표시"
   ]
  },
  {
   "cell_type": "code",
   "execution_count": 123,
   "id": "89372de8",
   "metadata": {},
   "outputs": [
    {
     "data": {
      "text/plain": [
       "Location(대한민국, (36.638392, 127.6961188, 0.0))"
      ]
     },
     "execution_count": 123,
     "metadata": {},
     "output_type": "execute_result"
    }
   ],
   "source": [
    "import geopy\n",
    "# Nominatim 서비스 객체에 대한 핸들러 가져 오기\n",
    "service = geopy.Nominatim(user_agent = \"myGeocoder\")\n",
    "# Nominatim (예 : OSM) 서비스를 사용하여 도시 이름을 지오 코딩합니다.\n",
    "service.geocode('대한민국')"
   ]
  },
  {
   "cell_type": "code",
   "execution_count": 127,
   "id": "3f62e87a",
   "metadata": {},
   "outputs": [
    {
     "data": {
      "text/html": [
       "<div>\n",
       "<style scoped>\n",
       "    .dataframe tbody tr th:only-of-type {\n",
       "        vertical-align: middle;\n",
       "    }\n",
       "\n",
       "    .dataframe tbody tr th {\n",
       "        vertical-align: top;\n",
       "    }\n",
       "\n",
       "    .dataframe thead th {\n",
       "        text-align: right;\n",
       "    }\n",
       "</style>\n",
       "<table border=\"1\" class=\"dataframe\">\n",
       "  <thead>\n",
       "    <tr style=\"text-align: right;\">\n",
       "      <th></th>\n",
       "      <th>시설명</th>\n",
       "      <th>시설종류명(시설유형)</th>\n",
       "      <th>시설종류상세명(시설종류)</th>\n",
       "      <th>자치구(시)구분</th>\n",
       "      <th>시설장명</th>\n",
       "      <th>시군구명</th>\n",
       "      <th>시설주소</th>\n",
       "    </tr>\n",
       "  </thead>\n",
       "  <tbody>\n",
       "    <tr>\n",
       "      <th>0</th>\n",
       "      <td>서울꽃동네신내노인요양원</td>\n",
       "      <td>(노인) 노인요양시설</td>\n",
       "      <td>노인의료복지시설</td>\n",
       "      <td>자치구</td>\n",
       "      <td>최은숙</td>\n",
       "      <td>중랑구</td>\n",
       "      <td>서울특별시 중랑구 신내로 194</td>\n",
       "    </tr>\n",
       "    <tr>\n",
       "      <th>1</th>\n",
       "      <td>청운양로원</td>\n",
       "      <td>(노인) 양로시설</td>\n",
       "      <td>노인주거복지시설</td>\n",
       "      <td>자치구</td>\n",
       "      <td>이종명</td>\n",
       "      <td>종로구</td>\n",
       "      <td>서울특별시 종로구 비봉길 76</td>\n",
       "    </tr>\n",
       "    <tr>\n",
       "      <th>2</th>\n",
       "      <td>청운노인요양원</td>\n",
       "      <td>(노인) 노인요양시설</td>\n",
       "      <td>노인의료복지시설</td>\n",
       "      <td>자치구</td>\n",
       "      <td>이종후</td>\n",
       "      <td>종로구</td>\n",
       "      <td>서울특별시 종로구 비봉길 76</td>\n",
       "    </tr>\n",
       "    <tr>\n",
       "      <th>3</th>\n",
       "      <td>홍파양로원</td>\n",
       "      <td>(노인) 양로시설</td>\n",
       "      <td>노인주거복지시설</td>\n",
       "      <td>자치구</td>\n",
       "      <td>김우리</td>\n",
       "      <td>노원구</td>\n",
       "      <td>서울특별시 노원구 동일로248길 30</td>\n",
       "    </tr>\n",
       "    <tr>\n",
       "      <th>4</th>\n",
       "      <td>천사노인요양원</td>\n",
       "      <td>(노인) 노인요양시설</td>\n",
       "      <td>노인의료복지시설</td>\n",
       "      <td>자치구</td>\n",
       "      <td>김샛별</td>\n",
       "      <td>강서구</td>\n",
       "      <td>서울특별시 강서구 강서로45다길 30-22</td>\n",
       "    </tr>\n",
       "  </tbody>\n",
       "</table>\n",
       "</div>"
      ],
      "text/plain": [
       "            시설명  시설종류명(시설유형) 시설종류상세명(시설종류) 자치구(시)구분 시설장명 시군구명  \\\n",
       "0  서울꽃동네신내노인요양원  (노인) 노인요양시설      노인의료복지시설      자치구  최은숙  중랑구   \n",
       "1         청운양로원    (노인) 양로시설      노인주거복지시설      자치구  이종명  종로구   \n",
       "2       청운노인요양원  (노인) 노인요양시설      노인의료복지시설      자치구  이종후  종로구   \n",
       "3         홍파양로원    (노인) 양로시설      노인주거복지시설      자치구  김우리  노원구   \n",
       "4       천사노인요양원  (노인) 노인요양시설      노인의료복지시설      자치구  김샛별  강서구   \n",
       "\n",
       "                      시설주소  \n",
       "0       서울특별시 중랑구 신내로 194   \n",
       "1        서울특별시 종로구 비봉길 76   \n",
       "2        서울특별시 종로구 비봉길 76   \n",
       "3    서울특별시 노원구 동일로248길 30   \n",
       "4  서울특별시 강서구 강서로45다길 30-22  "
      ]
     },
     "execution_count": 127,
     "metadata": {},
     "output_type": "execute_result"
    }
   ],
   "source": [
    "df.head()"
   ]
  },
  {
   "cell_type": "code",
   "execution_count": 124,
   "id": "b92bfe71",
   "metadata": {},
   "outputs": [
    {
     "name": "stdout",
     "output_type": "stream",
     "text": [
      "37.6000642\n",
      "127.0970247\n"
     ]
    }
   ],
   "source": [
    "# 위에서 보고 주소 가져오기\n",
    "loc_se = service.geocode('서울특별시 중랑구 신내로 194')\n",
    "#위도\n",
    "print(loc_se.latitude)\n",
    "#경도 \n",
    "print(loc_se.longitude)"
   ]
  },
  {
   "cell_type": "code",
   "execution_count": 128,
   "id": "9102b276",
   "metadata": {},
   "outputs": [
    {
     "data": {
      "text/html": [
       "<div style=\"width:100%;\"><div style=\"position:relative;width:100%;height:0;padding-bottom:60%;\"><span style=\"color:#565656\">Make this Notebook Trusted to load map: File -> Trust Notebook</span><iframe src=\"about:blank\" style=\"position:absolute;width:100%;height:100%;left:0;top:0;border:none !important;\" data-html=%3C%21DOCTYPE%20html%3E%0A%3Chead%3E%20%20%20%20%0A%20%20%20%20%3Cmeta%20http-equiv%3D%22content-type%22%20content%3D%22text/html%3B%20charset%3DUTF-8%22%20/%3E%0A%20%20%20%20%0A%20%20%20%20%20%20%20%20%3Cscript%3E%0A%20%20%20%20%20%20%20%20%20%20%20%20L_NO_TOUCH%20%3D%20false%3B%0A%20%20%20%20%20%20%20%20%20%20%20%20L_DISABLE_3D%20%3D%20false%3B%0A%20%20%20%20%20%20%20%20%3C/script%3E%0A%20%20%20%20%0A%20%20%20%20%3Cstyle%3Ehtml%2C%20body%20%7Bwidth%3A%20100%25%3Bheight%3A%20100%25%3Bmargin%3A%200%3Bpadding%3A%200%3B%7D%3C/style%3E%0A%20%20%20%20%3Cstyle%3E%23map%20%7Bposition%3Aabsolute%3Btop%3A0%3Bbottom%3A0%3Bright%3A0%3Bleft%3A0%3B%7D%3C/style%3E%0A%20%20%20%20%3Cscript%20src%3D%22https%3A//cdn.jsdelivr.net/npm/leaflet%401.6.0/dist/leaflet.js%22%3E%3C/script%3E%0A%20%20%20%20%3Cscript%20src%3D%22https%3A//code.jquery.com/jquery-1.12.4.min.js%22%3E%3C/script%3E%0A%20%20%20%20%3Cscript%20src%3D%22https%3A//maxcdn.bootstrapcdn.com/bootstrap/3.2.0/js/bootstrap.min.js%22%3E%3C/script%3E%0A%20%20%20%20%3Cscript%20src%3D%22https%3A//cdnjs.cloudflare.com/ajax/libs/Leaflet.awesome-markers/2.0.2/leaflet.awesome-markers.js%22%3E%3C/script%3E%0A%20%20%20%20%3Clink%20rel%3D%22stylesheet%22%20href%3D%22https%3A//cdn.jsdelivr.net/npm/leaflet%401.6.0/dist/leaflet.css%22/%3E%0A%20%20%20%20%3Clink%20rel%3D%22stylesheet%22%20href%3D%22https%3A//maxcdn.bootstrapcdn.com/bootstrap/3.2.0/css/bootstrap.min.css%22/%3E%0A%20%20%20%20%3Clink%20rel%3D%22stylesheet%22%20href%3D%22https%3A//maxcdn.bootstrapcdn.com/bootstrap/3.2.0/css/bootstrap-theme.min.css%22/%3E%0A%20%20%20%20%3Clink%20rel%3D%22stylesheet%22%20href%3D%22https%3A//maxcdn.bootstrapcdn.com/font-awesome/4.6.3/css/font-awesome.min.css%22/%3E%0A%20%20%20%20%3Clink%20rel%3D%22stylesheet%22%20href%3D%22https%3A//cdnjs.cloudflare.com/ajax/libs/Leaflet.awesome-markers/2.0.2/leaflet.awesome-markers.css%22/%3E%0A%20%20%20%20%3Clink%20rel%3D%22stylesheet%22%20href%3D%22https%3A//cdn.jsdelivr.net/gh/python-visualization/folium/folium/templates/leaflet.awesome.rotate.min.css%22/%3E%0A%20%20%20%20%0A%20%20%20%20%20%20%20%20%20%20%20%20%3Cmeta%20name%3D%22viewport%22%20content%3D%22width%3Ddevice-width%2C%0A%20%20%20%20%20%20%20%20%20%20%20%20%20%20%20%20initial-scale%3D1.0%2C%20maximum-scale%3D1.0%2C%20user-scalable%3Dno%22%20/%3E%0A%20%20%20%20%20%20%20%20%20%20%20%20%3Cstyle%3E%0A%20%20%20%20%20%20%20%20%20%20%20%20%20%20%20%20%23map_77de20d078c6471089bb5a1aed01c337%20%7B%0A%20%20%20%20%20%20%20%20%20%20%20%20%20%20%20%20%20%20%20%20position%3A%20relative%3B%0A%20%20%20%20%20%20%20%20%20%20%20%20%20%20%20%20%20%20%20%20width%3A%20100.0%25%3B%0A%20%20%20%20%20%20%20%20%20%20%20%20%20%20%20%20%20%20%20%20height%3A%20100.0%25%3B%0A%20%20%20%20%20%20%20%20%20%20%20%20%20%20%20%20%20%20%20%20left%3A%200.0%25%3B%0A%20%20%20%20%20%20%20%20%20%20%20%20%20%20%20%20%20%20%20%20top%3A%200.0%25%3B%0A%20%20%20%20%20%20%20%20%20%20%20%20%20%20%20%20%7D%0A%20%20%20%20%20%20%20%20%20%20%20%20%3C/style%3E%0A%20%20%20%20%20%20%20%20%0A%3C/head%3E%0A%3Cbody%3E%20%20%20%20%0A%20%20%20%20%0A%20%20%20%20%20%20%20%20%20%20%20%20%3Cdiv%20class%3D%22folium-map%22%20id%3D%22map_77de20d078c6471089bb5a1aed01c337%22%20%3E%3C/div%3E%0A%20%20%20%20%20%20%20%20%0A%3C/body%3E%0A%3Cscript%3E%20%20%20%20%0A%20%20%20%20%0A%20%20%20%20%20%20%20%20%20%20%20%20var%20map_77de20d078c6471089bb5a1aed01c337%20%3D%20L.map%28%0A%20%20%20%20%20%20%20%20%20%20%20%20%20%20%20%20%22map_77de20d078c6471089bb5a1aed01c337%22%2C%0A%20%20%20%20%20%20%20%20%20%20%20%20%20%20%20%20%7B%0A%20%20%20%20%20%20%20%20%20%20%20%20%20%20%20%20%20%20%20%20center%3A%20%5B37.6000642%2C%20127.0970247%5D%2C%0A%20%20%20%20%20%20%20%20%20%20%20%20%20%20%20%20%20%20%20%20crs%3A%20L.CRS.EPSG3857%2C%0A%20%20%20%20%20%20%20%20%20%20%20%20%20%20%20%20%20%20%20%20zoom%3A%2015%2C%0A%20%20%20%20%20%20%20%20%20%20%20%20%20%20%20%20%20%20%20%20zoomControl%3A%20true%2C%0A%20%20%20%20%20%20%20%20%20%20%20%20%20%20%20%20%20%20%20%20preferCanvas%3A%20false%2C%0A%20%20%20%20%20%20%20%20%20%20%20%20%20%20%20%20%7D%0A%20%20%20%20%20%20%20%20%20%20%20%20%29%3B%0A%0A%20%20%20%20%20%20%20%20%20%20%20%20%0A%0A%20%20%20%20%20%20%20%20%0A%20%20%20%20%0A%20%20%20%20%20%20%20%20%20%20%20%20var%20tile_layer_56fed834c5e247d681b2566d32f55103%20%3D%20L.tileLayer%28%0A%20%20%20%20%20%20%20%20%20%20%20%20%20%20%20%20%22https%3A//%7Bs%7D.tile.openstreetmap.org/%7Bz%7D/%7Bx%7D/%7By%7D.png%22%2C%0A%20%20%20%20%20%20%20%20%20%20%20%20%20%20%20%20%7B%22attribution%22%3A%20%22Data%20by%20%5Cu0026copy%3B%20%5Cu003ca%20href%3D%5C%22http%3A//openstreetmap.org%5C%22%5Cu003eOpenStreetMap%5Cu003c/a%5Cu003e%2C%20under%20%5Cu003ca%20href%3D%5C%22http%3A//www.openstreetmap.org/copyright%5C%22%5Cu003eODbL%5Cu003c/a%5Cu003e.%22%2C%20%22detectRetina%22%3A%20false%2C%20%22maxNativeZoom%22%3A%2018%2C%20%22maxZoom%22%3A%2018%2C%20%22minZoom%22%3A%200%2C%20%22noWrap%22%3A%20false%2C%20%22opacity%22%3A%201%2C%20%22subdomains%22%3A%20%22abc%22%2C%20%22tms%22%3A%20false%7D%0A%20%20%20%20%20%20%20%20%20%20%20%20%29.addTo%28map_77de20d078c6471089bb5a1aed01c337%29%3B%0A%20%20%20%20%20%20%20%20%0A%20%20%20%20%0A%20%20%20%20%20%20%20%20%20%20%20%20var%20marker_6adde9c596774bdc80daacde616804a4%20%3D%20L.marker%28%0A%20%20%20%20%20%20%20%20%20%20%20%20%20%20%20%20%5B37.6000642%2C%20127.0970247%5D%2C%0A%20%20%20%20%20%20%20%20%20%20%20%20%20%20%20%20%7B%7D%0A%20%20%20%20%20%20%20%20%20%20%20%20%29.addTo%28map_77de20d078c6471089bb5a1aed01c337%29%3B%0A%20%20%20%20%20%20%20%20%0A%20%20%20%20%0A%20%20%20%20%20%20%20%20%20%20%20%20marker_6adde9c596774bdc80daacde616804a4.bindTooltip%28%0A%20%20%20%20%20%20%20%20%20%20%20%20%20%20%20%20%60%3Cdiv%3E%0A%20%20%20%20%20%20%20%20%20%20%20%20%20%20%20%20%20%20%20%20%20%EC%84%9C%EC%9A%B8%EA%BD%83%EB%8F%99%EB%84%A4%EC%8B%A0%EB%82%B4%EB%85%B8%EC%9D%B8%EC%9A%94%EC%96%91%EC%9B%90%0A%20%20%20%20%20%20%20%20%20%20%20%20%20%20%20%20%20%3C/div%3E%60%2C%0A%20%20%20%20%20%20%20%20%20%20%20%20%20%20%20%20%7B%22sticky%22%3A%20true%7D%0A%20%20%20%20%20%20%20%20%20%20%20%20%29%3B%0A%20%20%20%20%20%20%20%20%0A%3C/script%3E onload=\"this.contentDocument.open();this.contentDocument.write(    decodeURIComponent(this.getAttribute('data-html')));this.contentDocument.close();\" allowfullscreen webkitallowfullscreen mozallowfullscreen></iframe></div></div>"
      ],
      "text/plain": [
       "<folium.folium.Map at 0x22e27b9a9d0>"
      ]
     },
     "execution_count": 128,
     "metadata": {},
     "output_type": "execute_result"
    }
   ],
   "source": [
    "m = folium.Map(location = [loc_se.latitude,loc_se.longitude], zoom_start = 15)\n",
    "\n",
    "folium.Marker(location = [loc_se.latitude,loc_se.longitude],tooltip=\"서울꽃동네신내노인요양원\").add_to(m)\n",
    "\n",
    "\n",
    "m"
   ]
  }
 ],
 "metadata": {
  "kernelspec": {
   "display_name": "Python 3",
   "language": "python",
   "name": "python3"
  },
  "language_info": {
   "codemirror_mode": {
    "name": "ipython",
    "version": 3
   },
   "file_extension": ".py",
   "mimetype": "text/x-python",
   "name": "python",
   "nbconvert_exporter": "python",
   "pygments_lexer": "ipython3",
   "version": "3.8.8"
  },
  "toc": {
   "base_numbering": 1,
   "nav_menu": {},
   "number_sections": true,
   "sideBar": true,
   "skip_h1_title": false,
   "title_cell": "Table of Contents",
   "title_sidebar": "Contents",
   "toc_cell": false,
   "toc_position": {
    "height": "calc(100% - 180px)",
    "left": "10px",
    "top": "150px",
    "width": "239.681px"
   },
   "toc_section_display": true,
   "toc_window_display": false
  }
 },
 "nbformat": 4,
 "nbformat_minor": 5
}
